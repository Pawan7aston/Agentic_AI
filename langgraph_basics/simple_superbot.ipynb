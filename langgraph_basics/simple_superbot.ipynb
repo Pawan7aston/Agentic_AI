{
 "cells": [
  {
   "attachments": {},
   "cell_type": "markdown",
   "metadata": {},
   "source": [
    "### Implementing simple Chatbot using LangGraph"
   ]
  },
  {
   "cell_type": "code",
   "execution_count": 20,
   "metadata": {},
   "outputs": [],
   "source": [
    "from typing_extensions import TypedDict\n",
    "from langgraph.graph import START , END , StateGraph\n",
    "from IPython.display import Image , display\n",
    "\n",
    "# Introducing Reducers\n",
    "\n",
    "from typing import Annotated\n",
    "from langgraph.graph.message import add_messages"
   ]
  },
  {
   "attachments": {},
   "cell_type": "markdown",
   "metadata": {},
   "source": [
    " **Annotated** : Here it basically combine messages based on ID.\n",
    "\n",
    " It mean if and conversation is going on between Human and AI , it give keep appending those messages \n",
    "\n",
    " Like Human Message + AI message + Human message + AI response +.......\n",
    "\n",
    " This is done with **Annotated** combined with **add_messageS**\n",
    "\n",
    " Here this add message is called : -->\n",
    "\n",
    " #### Reducer "
   ]
  },
  {
   "cell_type": "code",
   "execution_count": 21,
   "metadata": {},
   "outputs": [],
   "source": [
    "class State(TypedDict):\n",
    "    messages:Annotated[list,add_messages]"
   ]
  },
  {
   "cell_type": "code",
   "execution_count": 22,
   "metadata": {},
   "outputs": [],
   "source": [
    "import os\n",
    "from dotenv import load_dotenv\n",
    "load_dotenv()\n",
    "\n",
    "os.environ[\"OPENAI_API_KEY\"]=os.getenv(\"OPENAI_API_KEY\")\n",
    "os.environ[\"GROQ_API_KEY\"]=os.getenv(\"GROQ_API_KEY\")"
   ]
  },
  {
   "cell_type": "code",
   "execution_count": 23,
   "metadata": {},
   "outputs": [
    {
     "data": {
      "text/plain": [
       "AIMessage(content='Hello! 😊 How can I help you today?', additional_kwargs={'refusal': None}, response_metadata={'token_usage': {'completion_tokens': 85, 'prompt_tokens': 9, 'total_tokens': 94, 'completion_tokens_details': {'accepted_prediction_tokens': 0, 'audio_tokens': 0, 'reasoning_tokens': 64, 'rejected_prediction_tokens': 0}, 'prompt_tokens_details': {'audio_tokens': 0, 'cached_tokens': 0}}, 'model_name': 'o1-mini-2024-09-12', 'system_fingerprint': 'fp_1f2eb2a0a3', 'id': 'chatcmpl-CGkAIu3b0Z1OWfJfRLqkKlYsaSV89', 'service_tier': 'default', 'finish_reason': 'stop', 'logprobs': None}, id='run--62d2fe72-1a98-43b0-bf19-0bba95ac84ae-0', usage_metadata={'input_tokens': 9, 'output_tokens': 85, 'total_tokens': 94, 'input_token_details': {'audio': 0, 'cache_read': 0}, 'output_token_details': {'audio': 0, 'reasoning': 64}})"
      ]
     },
     "execution_count": 23,
     "metadata": {},
     "output_type": "execute_result"
    }
   ],
   "source": [
    "from langchain_openai import ChatOpenAI\n",
    "llm = ChatOpenAI(model=\"o1-mini\")\n",
    "llm.invoke(\"Hello\")"
   ]
  },
  {
   "cell_type": "code",
   "execution_count": 24,
   "metadata": {},
   "outputs": [
    {
     "data": {
      "text/plain": [
       "AIMessage(content=\"<think>\\nOkay, the user is Pawan and he likes playing cricket. He wants to know two important rules in cricket explained in 30 words. Let me start by recalling the key rules.\\n\\nFirst, the batting rules. There's the concept of scoring runs. Batsmen can score by running between the wickets or hitting the ball to the boundary. Runs are crucial for winning, so that's important.\\n\\nSecond, the bowling and dismissal rules. A bowler delivers the ball, and if the batsman misses, they might get out. Types of dismissals include bowled, caught, or run out. Wickets are essential because once all are lost, the innings ends.\\n\\nWait, maybe I should structure it more clearly. Let me pick two main rules. The first could be scoring runs through running or boundaries. The second could be the dismissal rules, like how a player is out. Need to keep it concise. Also, check the word count. Let me make sure each rule is explained briefly, within the limit. Avoid technical jargon so it's easy to understand.\\n</think>\\n\\nTwo key cricket rules: **Scoring runs** by rotating strike or hitting boundaries (4/6), and **wicket dismissal** (bowled, caught, run out). Teams bat to score, then bowl to dismiss all 10 batters.\", additional_kwargs={}, response_metadata={'token_usage': {'completion_tokens': 275, 'prompt_tokens': 32, 'total_tokens': 307, 'completion_time': 0.731695002, 'prompt_time': 0.006882605, 'queue_time': 0.049793235, 'total_time': 0.738577607}, 'model_name': 'qwen/qwen3-32b', 'system_fingerprint': 'fp_5cf921caa2', 'service_tier': 'on_demand', 'finish_reason': 'stop', 'logprobs': None}, id='run--9f3e32a3-21d5-46b1-9ec1-3152ef64fa77-0', usage_metadata={'input_tokens': 32, 'output_tokens': 275, 'total_tokens': 307})"
      ]
     },
     "execution_count": 24,
     "metadata": {},
     "output_type": "execute_result"
    }
   ],
   "source": [
    "from langchain_groq import ChatGroq\n",
    "llm_grok = ChatGroq(model=\"qwen/qwen3-32b\")\n",
    "llm_grok.invoke(\"Hey I am Pawan and i like playing cricket what are two important rules in cricket ? explain in 30 words\")"
   ]
  },
  {
   "cell_type": "markdown",
   "metadata": {},
   "source": [
    "# Start with creating Nodes"
   ]
  },
  {
   "cell_type": "code",
   "execution_count": 31,
   "metadata": {},
   "outputs": [],
   "source": [
    "def superbot(state:State):\n",
    "    return {\"messages\":[llm_grok.invoke(state[\"messages\"])]}"
   ]
  },
  {
   "cell_type": "code",
   "execution_count": 32,
   "metadata": {},
   "outputs": [
    {
     "data": {
      "image/png": "[encoded data removed]",
      "text/plain": [
       "<IPython.core.display.Image object>"
      ]
     },
     "metadata": {},
     "output_type": "display_data"
    }
   ],
   "source": [
    "graph = StateGraph(State)\n",
    "## Node\n",
    "graph.add_node(\"SuperBot\",superbot)\n",
    "\n",
    "## Edges\n",
    "graph.add_edge(START,\"SuperBot\")\n",
    "graph.add_edge(\"SuperBot\",END)\n",
    "\n",
    "graph_builder = graph.compile()\n",
    "\n",
    "\n",
    "## View\n",
    "display(Image(graph_builder.get_graph().draw_mermaid_png()))"
   ]
  },
  {
   "cell_type": "code",
   "execution_count": 33,
   "metadata": {},
   "outputs": [
    {
     "data": {
      "text/plain": [
       "{'messages': [HumanMessage(content='Hi,My name is Pawan and i Like cricket', additional_kwargs={}, response_metadata={}, id='ae1e4420-d336-4f76-b174-3e094fde9054'),\n",
       "  AIMessage(content='Hi Pawan! It’s great to meet you. Cricket is an awesome sport. Do you have a favorite team or player?', additional_kwargs={'refusal': None}, response_metadata={'token_usage': {'completion_tokens': 165, 'prompt_tokens': 19, 'total_tokens': 184, 'completion_tokens_details': {'accepted_prediction_tokens': 0, 'audio_tokens': 0, 'reasoning_tokens': 128, 'rejected_prediction_tokens': 0}, 'prompt_tokens_details': {'audio_tokens': 0, 'cached_tokens': 0}}, 'model_name': 'o1-mini-2024-09-12', 'system_fingerprint': 'fp_1f2eb2a0a3', 'id': 'chatcmpl-CGkR1vA6hOqxohE6eHsLOU6RSyD2G', 'service_tier': 'default', 'finish_reason': 'stop', 'logprobs': None}, id='run--3d2582fd-dadd-4e8d-9267-6fa2f60076ab-0', usage_metadata={'input_tokens': 19, 'output_tokens': 165, 'total_tokens': 184, 'input_token_details': {'audio': 0, 'cache_read': 0}, 'output_token_details': {'audio': 0, 'reasoning': 128}})]}"
      ]
     },
     "execution_count": 33,
     "metadata": {},
     "output_type": "execute_result"
    }
   ],
   "source": [
    "## Invocation\n",
    "graph_builder.invoke({\"messages\":\"Hi,My name is Pawan and i Like cricket\"})"
   ]
  },
  {
   "cell_type": "markdown",
   "metadata": {},
   "source": [
    "## Streaming the responses"
   ]
  },
  {
   "cell_type": "code",
   "execution_count": 34,
   "metadata": {},
   "outputs": [
    {
     "name": "stdout",
     "output_type": "stream",
     "text": [
      "{'messages': [HumanMessage(content='Hello My name is Pawan', additional_kwargs={}, response_metadata={}, id='aeb05f2a-7267-4101-a3d0-fa854659a465')]}\n",
      "{'messages': [HumanMessage(content='Hello My name is Pawan', additional_kwargs={}, response_metadata={}, id='aeb05f2a-7267-4101-a3d0-fa854659a465'), AIMessage(content=\"Hello Pawan! It's great to meet you. How can I assist you today?\", additional_kwargs={'refusal': None}, response_metadata={'token_usage': {'completion_tokens': 284, 'prompt_tokens': 14, 'total_tokens': 298, 'completion_tokens_details': {'accepted_prediction_tokens': 0, 'audio_tokens': 0, 'reasoning_tokens': 256, 'rejected_prediction_tokens': 0}, 'prompt_tokens_details': {'audio_tokens': 0, 'cached_tokens': 0}}, 'model_name': 'o1-mini-2024-09-12', 'system_fingerprint': 'fp_1f2eb2a0a3', 'id': 'chatcmpl-CGkR8X8EVxiqRThx0CVpJLRWXeZrz', 'service_tier': 'default', 'finish_reason': 'stop', 'logprobs': None}, id='run--6d43c1c0-c7ba-46bd-a6a2-cd1fc052be53-0', usage_metadata={'input_tokens': 14, 'output_tokens': 284, 'total_tokens': 298, 'input_token_details': {'audio': 0, 'cache_read': 0}, 'output_token_details': {'audio': 0, 'reasoning': 256}})]}\n"
     ]
    }
   ],
   "source": [
    "for event in graph_builder.stream({\"messages\":\"Hello My name is Pawan\"},stream_mode = \"values\"):\n",
    "    print(event)"
   ]
  },
  {
   "cell_type": "code",
   "execution_count": null,
   "metadata": {},
   "outputs": [],
   "source": []
  }
 ],
 "metadata": {
  "kernelspec": {
   "display_name": "Python 3",
   "language": "python",
   "name": "python3"
  },
  "language_info": {
   "codemirror_mode": {
    "name": "ipython",
    "version": 3
   },
   "file_extension": ".py",
   "mimetype": "text/x-python",
   "name": "python",
   "nbconvert_exporter": "python",
   "pygments_lexer": "ipython3",
   "version": "3.9.6"
  },
  "orig_nbformat": 4,
  "vscode": {
   "interpreter": {
    "hash": "31f2aee4e71d21fbe5cf8b01ff0e069b9275f58929596ceb00d14d90e3e16cd6"
   }
  }
 },
 "nbformat": 4,
 "nbformat_minor": 2
}
