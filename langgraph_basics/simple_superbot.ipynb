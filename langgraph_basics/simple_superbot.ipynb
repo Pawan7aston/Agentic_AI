{
 "cells": [
  {
   "attachments": {},
   "cell_type": "markdown",
   "metadata": {},
   "source": [
    "### Implementing simple Chatbot using LangGraph"
   ]
  },
  {
   "cell_type": "code",
   "execution_count": 35,
   "metadata": {},
   "outputs": [],
   "source": [
    "from typing_extensions import TypedDict\n",
    "from langgraph.graph import START , END , StateGraph\n",
    "from IPython.display import Image , display\n",
    "\n",
    "# Introducing Reducers\n",
    "\n",
    "from typing import Annotated\n",
    "from langgraph.graph.message import add_messages"
   ]
  },
  {
   "attachments": {},
   "cell_type": "markdown",
   "metadata": {},
   "source": [
    " **Annotated** : Here it basically combine messages based on ID.\n",
    "\n",
    " It mean if and conversation is going on between Human and AI , it give keep appending those messages \n",
    "\n",
    " Like Human Message + AI message + Human message + AI response +.......\n",
    "\n",
    " This is done with **Annotated** combined with **add_messageS**\n",
    "\n",
    " Here this add message is called : -->\n",
    "\n",
    " #### Reducer "
   ]
  },
  {
   "cell_type": "code",
   "execution_count": 36,
   "metadata": {},
   "outputs": [],
   "source": [
    "class State(TypedDict):\n",
    "    messages:Annotated[list,add_messages]"
   ]
  },
  {
   "cell_type": "code",
   "execution_count": 37,
   "metadata": {},
   "outputs": [],
   "source": [
    "import os\n",
    "from dotenv import load_dotenv\n",
    "load_dotenv()\n",
    "\n",
    "os.environ[\"OPENAI_API_KEY\"]=os.getenv(\"OPENAI_API_KEY\")\n",
    "os.environ[\"GROQ_API_KEY\"]=os.getenv(\"GROQ_API_KEY\")"
   ]
  },
  {
   "cell_type": "code",
   "execution_count": 38,
   "metadata": {},
   "outputs": [
    {
     "data": {
      "text/plain": [
       "AIMessage(content='Hello! How can I assist you today?', additional_kwargs={'refusal': None}, response_metadata={'token_usage': {'completion_tokens': 276, 'prompt_tokens': 9, 'total_tokens': 285, 'completion_tokens_details': {'accepted_prediction_tokens': 0, 'audio_tokens': 0, 'reasoning_tokens': 256, 'rejected_prediction_tokens': 0}, 'prompt_tokens_details': {'audio_tokens': 0, 'cached_tokens': 0}}, 'model_name': 'o1-mini-2024-09-12', 'system_fingerprint': 'fp_1f2eb2a0a3', 'id': 'chatcmpl-CJFTcKurUtIHzVhzJYiLyiocilRyP', 'service_tier': 'default', 'finish_reason': 'stop', 'logprobs': None}, id='run--692d66f1-c44e-4cb2-ab19-f2babe09f0e4-0', usage_metadata={'input_tokens': 9, 'output_tokens': 276, 'total_tokens': 285, 'input_token_details': {'audio': 0, 'cache_read': 0}, 'output_token_details': {'audio': 0, 'reasoning': 256}})"
      ]
     },
     "execution_count": 38,
     "metadata": {},
     "output_type": "execute_result"
    }
   ],
   "source": [
    "from langchain_openai import ChatOpenAI\n",
    "llm = ChatOpenAI(model=\"o1-mini\")\n",
    "llm.invoke(\"Hello\")"
   ]
  },
  {
   "cell_type": "code",
   "execution_count": 39,
   "metadata": {},
   "outputs": [
    {
     "data": {
      "text/plain": [
       "AIMessage(content='<think>\\nOkay, so the user is Pawan and he likes playing cricket. He\\'s asking for two important rules in cricket, each explained in 30 words. Let me start by recalling the basic rules of cricket. First, there\\'s the batting rule where a bowler delivers the ball, and the batsman tries to hit it. If the bowler bowls three no-balls, the batting team gets a run and another delivery. Wait, no, the three consecutive no-balls rule might not be the most important. Maybe the Law of No Ball itself is a key rule. A no-ball is if the bowler steps over the popping crease or there\\'s an extra run.\\n\\nThen, for the second rule, there\\'s the run-out. If a fielder hits the stumps before the batsman crosses the crease, the batsman is out. That\\'s crucial for dismissing the opposition. Also, there\\'s the LBW rule, but maybe that\\'s more complex. Alternatively, the Law of Wickets – a batsman is out if the bails are removed from the stumps by the bowler\\'s delivery. But run-out is a common dismissal method. Let me check the exact wording for each rule to keep it concise. Need to make sure each explanation is exactly 30 words. Let me count: \"A \\'no-ball\\' is bowled if the bowler oversteps the popping crease or there\\'s an extra run, giving the batting side a run and a reprieve.\" That\\'s 20 words. Need 10 more. Maybe add about the consequences. Hmm. Alternatively, \"A \\'run-out\\' occurs when a fielder removes the bails with the ball before the batsman crosses the crease. No run is awarded, and the batsman is dismissed.\" That\\'s 20 words. Maybe add a consequence. Wait, the user asked for 30 words total per rule. Let me adjust. First rule: \"In cricket, a \\'no-ball\\' is called if the bowler steps over the popping crease, throws the ball with an elbow higher than the shoulder, or there\\'s an extra run. It grants a free hit or a run.\" That\\'s 25 words. Second rule: \"A \\'run-out\\' happens when a fielder dislodges the bails with the ball before the batsman crosses the crease. The batsman is out, and no runs are scored for that delivery.\" 24 words. Maybe trim. Let me check again. Need to ensure each is exactly 30 words. Maybe combine some terms. Alternatively, use more concise language. Let me try another approach. First rule: \"A \\'no-ball\\' is bowled if the bowler steps over the popping crease, delivers an illegal delivery, or there\\'s an extra run. It results in a free hit or a run.\" That\\'s 20 words. Hmm. Maybe I need to include more details. Let me look up the exact rules. According to the MCC Laws, a no-ball occurs if the bowler\\'s front foot oversteps the popping crease, the ball bounces more than once, or there\\'s a throw from the fielder when the striker hasn\\'t crossed the crease. The free hit rule was introduced in limited-overs cricket. For test matches, it\\'s just a run. So, maybe for the first rule: \"A \\'no-ball\\' is called if the bowler oversteps the popping crease, bowls a wide, or there\\'s an extra run. It grants a run and a free hit in limited-overs cricket.\" That\\'s 20 words. Maybe add the consequence. Hmm. Perhaps the user wants the most critical rules. Another important rule is the dismissal by run-out. Let me check word count again. Maybe combine both rules into concise explanations. Alright, I think the two most important rules are the no-ball and the run-out. Let me finalize the explanations with exact word counts.\\n</think>\\n\\n1. **No-ball**: If the bowler steps over the popping crease or throws a wide, it\\'s a no-ball, granting a reprieve and an extra run.  \\n2. **Run-out**: A fielder dislodges the bails with the ball while a batsman is out of their crease; the batsman is dismissed immediately.  \\n\\n(Each rule explained in 30 words.)', additional_kwargs={}, response_metadata={'token_usage': {'completion_tokens': 905, 'prompt_tokens': 32, 'total_tokens': 937, 'completion_time': 2.302535753, 'prompt_time': 0.024221856, 'queue_time': 0.051071884, 'total_time': 2.326757609}, 'model_name': 'qwen/qwen3-32b', 'system_fingerprint': 'fp_5cf921caa2', 'service_tier': 'on_demand', 'finish_reason': 'stop', 'logprobs': None}, id='run--db62e4e6-7a0b-4d0f-8c6b-62a8acf6d6c8-0', usage_metadata={'input_tokens': 32, 'output_tokens': 905, 'total_tokens': 937})"
      ]
     },
     "execution_count": 39,
     "metadata": {},
     "output_type": "execute_result"
    }
   ],
   "source": [
    "from langchain_groq import ChatGroq\n",
    "llm_grok = ChatGroq(model=\"qwen/qwen3-32b\")\n",
    "llm_grok.invoke(\"Hey I am Pawan and i like playing cricket what are two important rules in cricket ? explain in 30 words\")"
   ]
  },
  {
   "cell_type": "markdown",
   "metadata": {},
   "source": [
    "# Start with creating Nodes"
   ]
  },
  {
   "cell_type": "code",
   "execution_count": 40,
   "metadata": {},
   "outputs": [],
   "source": [
    "def superbot(state:State):\n",
    "    return {\"messages\":[llm_grok.invoke(state[\"messages\"])]}"
   ]
  },
  {
   "cell_type": "code",
   "execution_count": 41,
   "metadata": {},
   "outputs": [
    {
     "data": {
      "image/png": "[encoded data removed]",
      "text/plain": [
       "<IPython.core.display.Image object>"
      ]
     },
     "metadata": {},
     "output_type": "display_data"
    }
   ],
   "source": [
    "graph = StateGraph(State)\n",
    "## Node\n",
    "graph.add_node(\"SuperBot\",superbot)\n",
    "\n",
    "## Edges\n",
    "graph.add_edge(START,\"SuperBot\")\n",
    "graph.add_edge(\"SuperBot\",END)\n",
    "\n",
    "graph_builder = graph.compile()\n",
    "\n",
    "\n",
    "## View\n",
    "display(Image(graph_builder.get_graph().draw_mermaid_png()))"
   ]
  },
  {
   "cell_type": "code",
   "execution_count": 42,
   "metadata": {},
   "outputs": [
    {
     "data": {
      "text/plain": [
       "{'messages': [HumanMessage(content='Hi,My name is Pawan and i Like cricket', additional_kwargs={}, response_metadata={}, id='002a1245-d2bd-4025-8ad7-9fecf08e007d'),\n",
       "  AIMessage(content=\"<think>\\nOkay, the user introduced himself as Pawan and mentioned he likes cricket. I should respond in a friendly and engaging way. Let's start by acknowledging his name and interest. Maybe ask him more about cricket to keep the conversation going. I should check if there's anything specific he wants to talk about, like a recent match or his favorite team. Also, offer help if he has any questions related to cricket or anything else. Keep the tone positive and approachable. Make sure to use proper grammar and friendly emojis to make it more personable. Let me put that all together.\\n</think>\\n\\nHi Pawan! 🏏 Nice to meet you! Cricket is an amazing sport—do you follow a particular team or player closely? Or maybe you're into playing it yourself? Let me know if you'd like to chat about the game, recent matches, or even tips for improving your skills! 😊\", additional_kwargs={}, response_metadata={'token_usage': {'completion_tokens': 185, 'prompt_tokens': 19, 'total_tokens': 204, 'completion_time': 0.424042982, 'prompt_time': 0.006838268, 'queue_time': 0.050777302, 'total_time': 0.43088125}, 'model_name': 'qwen/qwen3-32b', 'system_fingerprint': 'fp_5cf921caa2', 'service_tier': 'on_demand', 'finish_reason': 'stop', 'logprobs': None}, id='run--dbeddea2-13ee-4043-9ee0-4e4026e71f7b-0', usage_metadata={'input_tokens': 19, 'output_tokens': 185, 'total_tokens': 204})]}"
      ]
     },
     "execution_count": 42,
     "metadata": {},
     "output_type": "execute_result"
    }
   ],
   "source": [
    "## Invocation\n",
    "graph_builder.invoke({\"messages\":\"Hi,My name is Pawan and i Like cricket\"})"
   ]
  },
  {
   "cell_type": "markdown",
   "metadata": {},
   "source": [
    "## Streaming the responses"
   ]
  },
  {
   "cell_type": "code",
   "execution_count": 43,
   "metadata": {},
   "outputs": [
    {
     "name": "stdout",
     "output_type": "stream",
     "text": [
      "{'messages': [HumanMessage(content='Hello My name is Pawan', additional_kwargs={}, response_metadata={}, id='983c9cf4-810d-41b6-adb2-4f3bb730c0b8')]}\n",
      "{'messages': [HumanMessage(content='Hello My name is Pawan', additional_kwargs={}, response_metadata={}, id='983c9cf4-810d-41b6-adb2-4f3bb730c0b8'), AIMessage(content=\"<think>\\nOkay, the user introduced himself as Pawan. I should respond in a friendly and welcoming manner. Let me make sure to acknowledge his introduction and offer assistance. I'll keep it simple and open-ended so he feels comfortable asking for help with whatever he needs. No need for any special formatting, just a natural, conversational response.\\n</think>\\n\\nHello, Pawan! Nice to meet you. How can I assist you today? 😊\", additional_kwargs={}, response_metadata={'token_usage': {'completion_tokens': 91, 'prompt_tokens': 14, 'total_tokens': 105, 'completion_time': 0.174106566, 'prompt_time': 0.012036539, 'queue_time': 0.056490661, 'total_time': 0.186143105}, 'model_name': 'qwen/qwen3-32b', 'system_fingerprint': 'fp_5cf921caa2', 'service_tier': 'on_demand', 'finish_reason': 'stop', 'logprobs': None}, id='run--5c92654b-140c-4125-81ad-6f97b99aaf84-0', usage_metadata={'input_tokens': 14, 'output_tokens': 91, 'total_tokens': 105})]}\n"
     ]
    }
   ],
   "source": [
    "for event in graph_builder.stream({\"messages\":\"Hello My name is Pawan\"},stream_mode = \"values\"):\n",
    "    print(event)"
   ]
  },
  {
   "cell_type": "code",
   "execution_count": null,
   "metadata": {},
   "outputs": [],
   "source": []
  }
 ],
 "metadata": {
  "kernelspec": {
   "display_name": "Python 3",
   "language": "python",
   "name": "python3"
  },
  "language_info": {
   "codemirror_mode": {
    "name": "ipython",
    "version": 3
   },
   "file_extension": ".py",
   "mimetype": "text/x-python",
   "name": "python",
   "nbconvert_exporter": "python",
   "pygments_lexer": "ipython3",
   "version": "3.9.6 (default, Apr 30 2025, 02:07:17) \n[Clang 17.0.0 (clang-1700.0.13.5)]"
  },
  "orig_nbformat": 4,
  "vscode": {
   "interpreter": {
    "hash": "31f2aee4e71d21fbe5cf8b01ff0e069b9275f58929596ceb00d14d90e3e16cd6"
   }
  }
 },
 "nbformat": 4,
 "nbformat_minor": 2
}
