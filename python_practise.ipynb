{
 "cells": [
  {
   "cell_type": "code",
   "execution_count": 3,
   "metadata": {},
   "outputs": [
    {
     "name": "stdout",
     "output_type": "stream",
     "text": [
      "Not A Palindrome\n"
     ]
    }
   ],
   "source": [
    "data = input(\"Enter a string: \")\n",
    "\n",
    "\n",
    "cleaned = data.replace(\" \", \"\").lower()\n",
    "\n",
    "\n",
    "s = \"\"\n",
    "for i in cleaned:\n",
    "    s = i + s\n",
    "\n",
    "\n",
    "if cleaned == s:\n",
    "    print(\"Palindrome\")\n",
    "else:\n",
    "    print(\"Not A Palindrome\")\n"
   ]
  },
  {
   "cell_type": "code",
   "execution_count": 13,
   "metadata": {},
   "outputs": [
    {
     "name": "stdout",
     "output_type": "stream",
     "text": [
      "45\n"
     ]
    }
   ],
   "source": [
    "# Check for sorting and give second highest number out of all.\n",
    "data=[10, 20, 4, 45, 99]\n",
    "\n",
    "for i in range(len(data)):\n",
    "    for j in range(len(data)-1):\n",
    "        if data[j] > data[j + 1]:\n",
    "            data[j],data[j+1] = data[j+1],data[j]\n",
    "\n",
    "print(data[len(data)-2])"
   ]
  },
  {
   "cell_type": "code",
   "execution_count": 29,
   "metadata": {},
   "outputs": [
    {
     "data": {
      "text/plain": [
       "{'P': 1, 'r': 2, 'o': 1, 'g': 2, 'a': 1, 'm': 2, 'i': 1, 'n': 1}"
      ]
     },
     "execution_count": 29,
     "metadata": {},
     "output_type": "execute_result"
    }
   ],
   "source": [
    "st = \"Programming\"\n",
    "\n",
    "dict_1 = {}\n",
    "for i in st:\n",
    "    if i in dict_1:\n",
    "        dict_1[i] = dict_1[i]+1\n",
    "    else:\n",
    "        dict_1[i]=1\n",
    "dict_1\n",
    "         "
   ]
  },
  {
   "cell_type": "code",
   "execution_count": 31,
   "metadata": {},
   "outputs": [
    {
     "name": "stdout",
     "output_type": "stream",
     "text": [
      "[1, 2]\n"
     ]
    }
   ],
   "source": [
    "nm = [1, 2, 3, 2, 4, 5, 1, 6, 1]\n",
    "\n",
    "dt={}\n",
    "lt=[]\n",
    "for i in nm:\n",
    "    if i in dt:\n",
    "        dt[i] = dt[i]+1\n",
    "    else:\n",
    "        dt[i]=1\n",
    "\n",
    "for k,v in dt.items():\n",
    "    if v>1:\n",
    "        lt.append(k)\n",
    "print(lt)\n"
   ]
  },
  {
   "cell_type": "code",
   "execution_count": 34,
   "metadata": {},
   "outputs": [
    {
     "name": "stdout",
     "output_type": "stream",
     "text": [
      "Python love I  \n"
     ]
    }
   ],
   "source": [
    "st_1 = \"I love Python\"\n",
    "nst = st_1.split(' ')\n",
    "spc = \" \"\n",
    "for i in nst:\n",
    "    spc = i +\" \" + spc\n",
    "print(spc)"
   ]
  },
  {
   "cell_type": "code",
   "execution_count": 42,
   "metadata": {},
   "outputs": [
    {
     "name": "stdout",
     "output_type": "stream",
     "text": [
      "False\n"
     ]
    }
   ],
   "source": [
    "inp_1= input()\n",
    "inp_2= input()\n",
    "lst_inp_2 = list(inp_2)\n",
    "is_anagram = True\n",
    "for i in inp_1:\n",
    "    if i in lst_inp_2:\n",
    "        lst_inp_2.remove(i)\n",
    "    else:\n",
    "        is_anagram = False\n",
    "        break\n",
    "\n",
    "if is_anagram:\n",
    "    is_anagram = False\n",
    "    \n",
    "        \n",
    "\n",
    "print(is_anagram)"
   ]
  },
  {
   "cell_type": "code",
   "execution_count": null,
   "metadata": {},
   "outputs": [],
   "source": []
  }
 ],
 "metadata": {
  "kernelspec": {
   "display_name": "Python 3",
   "language": "python",
   "name": "python3"
  },
  "language_info": {
   "codemirror_mode": {
    "name": "ipython",
    "version": 3
   },
   "file_extension": ".py",
   "mimetype": "text/x-python",
   "name": "python",
   "nbconvert_exporter": "python",
   "pygments_lexer": "ipython3",
   "version": "3.9.6 (default, Apr 30 2025, 02:07:17) \n[Clang 17.0.0 (clang-1700.0.13.5)]"
  },
  "orig_nbformat": 4,
  "vscode": {
   "interpreter": {
    "hash": "31f2aee4e71d21fbe5cf8b01ff0e069b9275f58929596ceb00d14d90e3e16cd6"
   }
  }
 },
 "nbformat": 4,
 "nbformat_minor": 2
}
