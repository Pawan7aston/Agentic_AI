{
 "cells": [
  {
   "attachments": {},
   "cell_type": "markdown",
   "metadata": {},
   "source": [
    "## Data Class State Schema\n",
    "\n",
    "-   When we define a Langgraph StateGraph, we use a state schema\n",
    "\n",
    "-   The state schema represents the structure and types of data that our graph will use.\n",
    "\n",
    "-   All Nodes are expected to commuincate with the schema.\n",
    "\n",
    "-  LangGraph offers flexibility in how to define your state schema accommodating various Python types and validation approches!"
   ]
  },
  {
   "cell_type": "code",
   "execution_count": 26,
   "metadata": {},
   "outputs": [],
   "source": [
    "from typing_extensions import TypedDict\n",
    "from typing import Literal\n",
    "class TypedictState(TypedDict):\n",
    "    name:str\n",
    "    game:Literal[\"cricket\",\"badminton\"]\n",
    "\n"
   ]
  },
  {
   "cell_type": "code",
   "execution_count": 27,
   "metadata": {},
   "outputs": [],
   "source": [
    "def play_game(state:TypedictState):\n",
    "    print(\"--- Play game nodes has been called ---\")\n",
    "    return {\"name\":state[\"name\"] + \" want to play game\"}\n",
    "\n",
    "def cricket(state:TypedictState):\n",
    "    print(\"--- Cricket node has been called--- \")\n",
    "    return {\"name\":state[\"name\"]+ \" cricket\", \"game\":\"cricket\"}\n",
    "\n",
    "def badminton(state:TypedictState):\n",
    "    print(\"--- Badminton node has been called--- \")\n",
    "    return {\"name\":state[\"name\"]+ \" badminton\",\"game\":\"badminton\"}"
   ]
  },
  {
   "cell_type": "code",
   "execution_count": 28,
   "metadata": {},
   "outputs": [],
   "source": [
    "## Calling builder graph \n",
    "\n",
    "import random \n",
    "from IPython.display import Image , display\n",
    "from langgraph.graph import StateGraph, START, END"
   ]
  },
  {
   "cell_type": "code",
   "execution_count": 29,
   "metadata": {},
   "outputs": [],
   "source": [
    "def decide_play(state:TypedictState) -> Literal[\"cricket\",\"badminton\"]:\n",
    "    if random.random()>0.5:\n",
    "        return \"cricket\"\n",
    "    else:\n",
    "        return \"badminton\"\n",
    "    "
   ]
  },
  {
   "cell_type": "code",
   "execution_count": 30,
   "metadata": {},
   "outputs": [
    {
     "ename": "ValueError",
     "evalue": "Failed to reach https://mermaid.ink/ API while trying to render your graph. Status code: 502.\n\nTo resolve this issue:\n1. Check your internet connection and try again\n2. Try with higher retry settings: `draw_mermaid_png(..., max_retries=5, retry_delay=2.0)`\n3. Use the Pyppeteer rendering method which will render your graph locally in a browser: `draw_mermaid_png(..., draw_method=MermaidDrawMethod.PYPPETEER)`",
     "output_type": "error",
     "traceback": [
      "\u001b[0;31m---------------------------------------------------------------------------\u001b[0m",
      "\u001b[0;31mValueError\u001b[0m                                Traceback (most recent call last)",
      "Cell \u001b[0;32mIn[30], line 19\u001b[0m\n\u001b[1;32m     15\u001b[0m graph_builder \u001b[39m=\u001b[39m builder\u001b[39m.\u001b[39mcompile()\n\u001b[1;32m     17\u001b[0m \u001b[39m# View\u001b[39;00m\n\u001b[0;32m---> 19\u001b[0m display(Image(graph_builder\u001b[39m.\u001b[39;49mget_graph()\u001b[39m.\u001b[39;49mdraw_mermaid_png()))\n",
      "File \u001b[0;32m~/Library/Python/3.9/lib/python/site-packages/langchain_core/runnables/graph.py:702\u001b[0m, in \u001b[0;36mGraph.draw_mermaid_png\u001b[0;34m(self, curve_style, node_colors, wrap_label_n_words, output_file_path, draw_method, background_color, padding, max_retries, retry_delay, frontmatter_config)\u001b[0m\n\u001b[1;32m    692\u001b[0m \u001b[39mfrom\u001b[39;00m \u001b[39mlangchain_core\u001b[39;00m\u001b[39m.\u001b[39;00m\u001b[39mrunnables\u001b[39;00m\u001b[39m.\u001b[39;00m\u001b[39mgraph_mermaid\u001b[39;00m \u001b[39mimport\u001b[39;00m (  \u001b[39m# noqa: PLC0415\u001b[39;00m\n\u001b[1;32m    693\u001b[0m     draw_mermaid_png,\n\u001b[1;32m    694\u001b[0m )\n\u001b[1;32m    696\u001b[0m mermaid_syntax \u001b[39m=\u001b[39m \u001b[39mself\u001b[39m\u001b[39m.\u001b[39mdraw_mermaid(\n\u001b[1;32m    697\u001b[0m     curve_style\u001b[39m=\u001b[39mcurve_style,\n\u001b[1;32m    698\u001b[0m     node_colors\u001b[39m=\u001b[39mnode_colors,\n\u001b[1;32m    699\u001b[0m     wrap_label_n_words\u001b[39m=\u001b[39mwrap_label_n_words,\n\u001b[1;32m    700\u001b[0m     frontmatter_config\u001b[39m=\u001b[39mfrontmatter_config,\n\u001b[1;32m    701\u001b[0m )\n\u001b[0;32m--> 702\u001b[0m \u001b[39mreturn\u001b[39;00m draw_mermaid_png(\n\u001b[1;32m    703\u001b[0m     mermaid_syntax\u001b[39m=\u001b[39;49mmermaid_syntax,\n\u001b[1;32m    704\u001b[0m     output_file_path\u001b[39m=\u001b[39;49moutput_file_path,\n\u001b[1;32m    705\u001b[0m     draw_method\u001b[39m=\u001b[39;49mdraw_method,\n\u001b[1;32m    706\u001b[0m     background_color\u001b[39m=\u001b[39;49mbackground_color,\n\u001b[1;32m    707\u001b[0m     padding\u001b[39m=\u001b[39;49mpadding,\n\u001b[1;32m    708\u001b[0m     max_retries\u001b[39m=\u001b[39;49mmax_retries,\n\u001b[1;32m    709\u001b[0m     retry_delay\u001b[39m=\u001b[39;49mretry_delay,\n\u001b[1;32m    710\u001b[0m )\n",
      "File \u001b[0;32m~/Library/Python/3.9/lib/python/site-packages/langchain_core/runnables/graph_mermaid.py:310\u001b[0m, in \u001b[0;36mdraw_mermaid_png\u001b[0;34m(mermaid_syntax, output_file_path, draw_method, background_color, padding, max_retries, retry_delay)\u001b[0m\n\u001b[1;32m    304\u001b[0m     img_bytes \u001b[39m=\u001b[39m asyncio\u001b[39m.\u001b[39mrun(\n\u001b[1;32m    305\u001b[0m         _render_mermaid_using_pyppeteer(\n\u001b[1;32m    306\u001b[0m             mermaid_syntax, output_file_path, background_color, padding\n\u001b[1;32m    307\u001b[0m         )\n\u001b[1;32m    308\u001b[0m     )\n\u001b[1;32m    309\u001b[0m \u001b[39melif\u001b[39;00m draw_method \u001b[39m==\u001b[39m MermaidDrawMethod\u001b[39m.\u001b[39mAPI:\n\u001b[0;32m--> 310\u001b[0m     img_bytes \u001b[39m=\u001b[39m _render_mermaid_using_api(\n\u001b[1;32m    311\u001b[0m         mermaid_syntax,\n\u001b[1;32m    312\u001b[0m         output_file_path\u001b[39m=\u001b[39;49moutput_file_path,\n\u001b[1;32m    313\u001b[0m         background_color\u001b[39m=\u001b[39;49mbackground_color,\n\u001b[1;32m    314\u001b[0m         max_retries\u001b[39m=\u001b[39;49mmax_retries,\n\u001b[1;32m    315\u001b[0m         retry_delay\u001b[39m=\u001b[39;49mretry_delay,\n\u001b[1;32m    316\u001b[0m     )\n\u001b[1;32m    317\u001b[0m \u001b[39melse\u001b[39;00m:\n\u001b[1;32m    318\u001b[0m     supported_methods \u001b[39m=\u001b[39m \u001b[39m\"\u001b[39m\u001b[39m, \u001b[39m\u001b[39m\"\u001b[39m\u001b[39m.\u001b[39mjoin([m\u001b[39m.\u001b[39mvalue \u001b[39mfor\u001b[39;00m m \u001b[39min\u001b[39;00m MermaidDrawMethod])\n",
      "File \u001b[0;32m~/Library/Python/3.9/lib/python/site-packages/langchain_core/runnables/graph_mermaid.py:463\u001b[0m, in \u001b[0;36m_render_mermaid_using_api\u001b[0;34m(mermaid_syntax, output_file_path, background_color, file_type, max_retries, retry_delay)\u001b[0m\n\u001b[1;32m    458\u001b[0m     \u001b[39m# For other status codes, fail immediately\u001b[39;00m\n\u001b[1;32m    459\u001b[0m     msg \u001b[39m=\u001b[39m (\n\u001b[1;32m    460\u001b[0m         \u001b[39m\"\u001b[39m\u001b[39mFailed to reach https://mermaid.ink/ API while trying to render \u001b[39m\u001b[39m\"\u001b[39m\n\u001b[1;32m    461\u001b[0m         \u001b[39mf\u001b[39m\u001b[39m\"\u001b[39m\u001b[39myour graph. Status code: \u001b[39m\u001b[39m{\u001b[39;00mresponse\u001b[39m.\u001b[39mstatus_code\u001b[39m}\u001b[39;00m\u001b[39m.\u001b[39m\u001b[39m\\n\u001b[39;00m\u001b[39m\\n\u001b[39;00m\u001b[39m\"\u001b[39m\n\u001b[1;32m    462\u001b[0m     ) \u001b[39m+\u001b[39m error_msg_suffix\n\u001b[0;32m--> 463\u001b[0m     \u001b[39mraise\u001b[39;00m \u001b[39mValueError\u001b[39;00m(msg)\n\u001b[1;32m    465\u001b[0m \u001b[39mexcept\u001b[39;00m (requests\u001b[39m.\u001b[39mRequestException, requests\u001b[39m.\u001b[39mTimeout) \u001b[39mas\u001b[39;00m e:\n\u001b[1;32m    466\u001b[0m     \u001b[39mif\u001b[39;00m attempt \u001b[39m<\u001b[39m max_retries:\n\u001b[1;32m    467\u001b[0m         \u001b[39m# Exponential backoff with jitter\u001b[39;00m\n",
      "\u001b[0;31mValueError\u001b[0m: Failed to reach https://mermaid.ink/ API while trying to render your graph. Status code: 502.\n\nTo resolve this issue:\n1. Check your internet connection and try again\n2. Try with higher retry settings: `draw_mermaid_png(..., max_retries=5, retry_delay=2.0)`\n3. Use the Pyppeteer rendering method which will render your graph locally in a browser: `draw_mermaid_png(..., draw_method=MermaidDrawMethod.PYPPETEER)`"
     ]
    }
   ],
   "source": [
    "builder = StateGraph(TypedictState)\n",
    "builder.add_node(\"Play_node\",play_game)\n",
    "builder.add_node(\"cricket\",cricket)\n",
    "builder.add_node(\"badminton\",badminton)\n",
    "\n",
    "# Flow of the graph \n",
    "\n",
    "\n",
    "builder.add_edge(START , \"Play_node\")\n",
    "builder.add_conditional_edges(\"Play_node\",decide_play)\n",
    "  \n",
    "builder.add_edge(\"cricket\",END)\n",
    "builder.add_edge(\"badminton\",END)\n",
    "## Add\n",
    "graph_builder = builder.compile()\n",
    "\n",
    "# View\n",
    "\n",
    "display(Image(graph_builder.get_graph().draw_mermaid_png()))"
   ]
  },
  {
   "cell_type": "code",
   "execution_count": 33,
   "metadata": {},
   "outputs": [
    {
     "name": "stdout",
     "output_type": "stream",
     "text": [
      "--- Play game nodes has been called ---\n",
      "--- Cricket node has been called--- \n"
     ]
    },
    {
     "data": {
      "text/plain": [
       "{'name': 'Pawan want to play game cricket', 'game': 'cricket'}"
      ]
     },
     "execution_count": 33,
     "metadata": {},
     "output_type": "execute_result"
    }
   ],
   "source": [
    "graph_builder.invoke({\"name\":\"Pawan\"})"
   ]
  },
  {
   "cell_type": "code",
   "execution_count": null,
   "metadata": {},
   "outputs": [],
   "source": []
  },
  {
   "attachments": {},
   "cell_type": "markdown",
   "metadata": {},
   "source": [
    "## Another way to define structure is using Dataclasses\n",
    "\n",
    "- Python dataclasses provie another way to define structured data.\n",
    "- Dataclasses offer a concise syntax for creating classes that are primarily used to store data."
   ]
  },
  {
   "cell_type": "code",
   "execution_count": 50,
   "metadata": {},
   "outputs": [],
   "source": [
    "# Dataclases\n",
    "from dataclasses import dataclass\n",
    "\n",
    "@dataclass\n",
    "class DataClassState:\n",
    "    name:str\n",
    "    game:Literal[\"badminton\",\"cricket\"]"
   ]
  },
  {
   "cell_type": "code",
   "execution_count": 51,
   "metadata": {},
   "outputs": [],
   "source": [
    "def play_game(state:DataClassState):\n",
    "    print(\"--- Play game nodes has been called ---\")\n",
    "    return {\"name\":state.name + \" want to play game\"}\n",
    "\n",
    "def cricket(state:DataClassState):\n",
    "    print(\"--- Cricket node has been called--- \")\n",
    "    return {\"name\":state.name + \" cricket\", \"game\":\"cricket\"}\n",
    "\n",
    "def badminton(state:DataClassState):\n",
    "    print(\"--- Badminton node has been called--- \")\n",
    "    return {\"name\":state.name + \" badminton\",\"game\":\"badminton\"}"
   ]
  },
  {
   "cell_type": "code",
   "execution_count": 52,
   "metadata": {},
   "outputs": [],
   "source": [
    "def decide_play(state:DataClassState) -> Literal[\"cricket\",\"badminton\"]:\n",
    "    if random.random()>0.5:\n",
    "        return \"cricket\"\n",
    "    else:\n",
    "        return \"badminton\"\n",
    "    "
   ]
  },
  {
   "cell_type": "code",
   "execution_count": 53,
   "metadata": {},
   "outputs": [
    {
     "data": {
      "text/plain": [
       "<langgraph.graph.state.StateGraph at 0x10d671ee0>"
      ]
     },
     "execution_count": 53,
     "metadata": {},
     "output_type": "execute_result"
    }
   ],
   "source": [
    "builder = StateGraph(DataClassState)\n",
    "builder.add_node(\"Play_node\",play_game)\n",
    "builder.add_node(\"cricket\",cricket)\n",
    "builder.add_node(\"badminton\",badminton)\n",
    "\n",
    "# Flow of the graph \n",
    "\n",
    "\n",
    "builder.add_edge(START , \"Play_node\")\n",
    "builder.add_conditional_edges(\"Play_node\",decide_play)\n",
    "  \n",
    "builder.add_edge(\"cricket\",END)\n",
    "builder.add_edge(\"badminton\",END)\n"
   ]
  },
  {
   "cell_type": "code",
   "execution_count": 54,
   "metadata": {},
   "outputs": [
    {
     "ename": "ValueError",
     "evalue": "Failed to reach https://mermaid.ink/ API while trying to render your graph. Status code: 502.\n\nTo resolve this issue:\n1. Check your internet connection and try again\n2. Try with higher retry settings: `draw_mermaid_png(..., max_retries=5, retry_delay=2.0)`\n3. Use the Pyppeteer rendering method which will render your graph locally in a browser: `draw_mermaid_png(..., draw_method=MermaidDrawMethod.PYPPETEER)`",
     "output_type": "error",
     "traceback": [
      "\u001b[0;31m---------------------------------------------------------------------------\u001b[0m",
      "\u001b[0;31mValueError\u001b[0m                                Traceback (most recent call last)",
      "Cell \u001b[0;32mIn[54], line 6\u001b[0m\n\u001b[1;32m      2\u001b[0m graph_builder \u001b[39m=\u001b[39m builder\u001b[39m.\u001b[39mcompile()\n\u001b[1;32m      4\u001b[0m \u001b[39m# View\u001b[39;00m\n\u001b[0;32m----> 6\u001b[0m display(Image(graph_builder\u001b[39m.\u001b[39;49mget_graph()\u001b[39m.\u001b[39;49mdraw_mermaid_png()))\n",
      "File \u001b[0;32m~/Library/Python/3.9/lib/python/site-packages/langchain_core/runnables/graph.py:702\u001b[0m, in \u001b[0;36mGraph.draw_mermaid_png\u001b[0;34m(self, curve_style, node_colors, wrap_label_n_words, output_file_path, draw_method, background_color, padding, max_retries, retry_delay, frontmatter_config)\u001b[0m\n\u001b[1;32m    692\u001b[0m \u001b[39mfrom\u001b[39;00m \u001b[39mlangchain_core\u001b[39;00m\u001b[39m.\u001b[39;00m\u001b[39mrunnables\u001b[39;00m\u001b[39m.\u001b[39;00m\u001b[39mgraph_mermaid\u001b[39;00m \u001b[39mimport\u001b[39;00m (  \u001b[39m# noqa: PLC0415\u001b[39;00m\n\u001b[1;32m    693\u001b[0m     draw_mermaid_png,\n\u001b[1;32m    694\u001b[0m )\n\u001b[1;32m    696\u001b[0m mermaid_syntax \u001b[39m=\u001b[39m \u001b[39mself\u001b[39m\u001b[39m.\u001b[39mdraw_mermaid(\n\u001b[1;32m    697\u001b[0m     curve_style\u001b[39m=\u001b[39mcurve_style,\n\u001b[1;32m    698\u001b[0m     node_colors\u001b[39m=\u001b[39mnode_colors,\n\u001b[1;32m    699\u001b[0m     wrap_label_n_words\u001b[39m=\u001b[39mwrap_label_n_words,\n\u001b[1;32m    700\u001b[0m     frontmatter_config\u001b[39m=\u001b[39mfrontmatter_config,\n\u001b[1;32m    701\u001b[0m )\n\u001b[0;32m--> 702\u001b[0m \u001b[39mreturn\u001b[39;00m draw_mermaid_png(\n\u001b[1;32m    703\u001b[0m     mermaid_syntax\u001b[39m=\u001b[39;49mmermaid_syntax,\n\u001b[1;32m    704\u001b[0m     output_file_path\u001b[39m=\u001b[39;49moutput_file_path,\n\u001b[1;32m    705\u001b[0m     draw_method\u001b[39m=\u001b[39;49mdraw_method,\n\u001b[1;32m    706\u001b[0m     background_color\u001b[39m=\u001b[39;49mbackground_color,\n\u001b[1;32m    707\u001b[0m     padding\u001b[39m=\u001b[39;49mpadding,\n\u001b[1;32m    708\u001b[0m     max_retries\u001b[39m=\u001b[39;49mmax_retries,\n\u001b[1;32m    709\u001b[0m     retry_delay\u001b[39m=\u001b[39;49mretry_delay,\n\u001b[1;32m    710\u001b[0m )\n",
      "File \u001b[0;32m~/Library/Python/3.9/lib/python/site-packages/langchain_core/runnables/graph_mermaid.py:310\u001b[0m, in \u001b[0;36mdraw_mermaid_png\u001b[0;34m(mermaid_syntax, output_file_path, draw_method, background_color, padding, max_retries, retry_delay)\u001b[0m\n\u001b[1;32m    304\u001b[0m     img_bytes \u001b[39m=\u001b[39m asyncio\u001b[39m.\u001b[39mrun(\n\u001b[1;32m    305\u001b[0m         _render_mermaid_using_pyppeteer(\n\u001b[1;32m    306\u001b[0m             mermaid_syntax, output_file_path, background_color, padding\n\u001b[1;32m    307\u001b[0m         )\n\u001b[1;32m    308\u001b[0m     )\n\u001b[1;32m    309\u001b[0m \u001b[39melif\u001b[39;00m draw_method \u001b[39m==\u001b[39m MermaidDrawMethod\u001b[39m.\u001b[39mAPI:\n\u001b[0;32m--> 310\u001b[0m     img_bytes \u001b[39m=\u001b[39m _render_mermaid_using_api(\n\u001b[1;32m    311\u001b[0m         mermaid_syntax,\n\u001b[1;32m    312\u001b[0m         output_file_path\u001b[39m=\u001b[39;49moutput_file_path,\n\u001b[1;32m    313\u001b[0m         background_color\u001b[39m=\u001b[39;49mbackground_color,\n\u001b[1;32m    314\u001b[0m         max_retries\u001b[39m=\u001b[39;49mmax_retries,\n\u001b[1;32m    315\u001b[0m         retry_delay\u001b[39m=\u001b[39;49mretry_delay,\n\u001b[1;32m    316\u001b[0m     )\n\u001b[1;32m    317\u001b[0m \u001b[39melse\u001b[39;00m:\n\u001b[1;32m    318\u001b[0m     supported_methods \u001b[39m=\u001b[39m \u001b[39m\"\u001b[39m\u001b[39m, \u001b[39m\u001b[39m\"\u001b[39m\u001b[39m.\u001b[39mjoin([m\u001b[39m.\u001b[39mvalue \u001b[39mfor\u001b[39;00m m \u001b[39min\u001b[39;00m MermaidDrawMethod])\n",
      "File \u001b[0;32m~/Library/Python/3.9/lib/python/site-packages/langchain_core/runnables/graph_mermaid.py:463\u001b[0m, in \u001b[0;36m_render_mermaid_using_api\u001b[0;34m(mermaid_syntax, output_file_path, background_color, file_type, max_retries, retry_delay)\u001b[0m\n\u001b[1;32m    458\u001b[0m     \u001b[39m# For other status codes, fail immediately\u001b[39;00m\n\u001b[1;32m    459\u001b[0m     msg \u001b[39m=\u001b[39m (\n\u001b[1;32m    460\u001b[0m         \u001b[39m\"\u001b[39m\u001b[39mFailed to reach https://mermaid.ink/ API while trying to render \u001b[39m\u001b[39m\"\u001b[39m\n\u001b[1;32m    461\u001b[0m         \u001b[39mf\u001b[39m\u001b[39m\"\u001b[39m\u001b[39myour graph. Status code: \u001b[39m\u001b[39m{\u001b[39;00mresponse\u001b[39m.\u001b[39mstatus_code\u001b[39m}\u001b[39;00m\u001b[39m.\u001b[39m\u001b[39m\\n\u001b[39;00m\u001b[39m\\n\u001b[39;00m\u001b[39m\"\u001b[39m\n\u001b[1;32m    462\u001b[0m     ) \u001b[39m+\u001b[39m error_msg_suffix\n\u001b[0;32m--> 463\u001b[0m     \u001b[39mraise\u001b[39;00m \u001b[39mValueError\u001b[39;00m(msg)\n\u001b[1;32m    465\u001b[0m \u001b[39mexcept\u001b[39;00m (requests\u001b[39m.\u001b[39mRequestException, requests\u001b[39m.\u001b[39mTimeout) \u001b[39mas\u001b[39;00m e:\n\u001b[1;32m    466\u001b[0m     \u001b[39mif\u001b[39;00m attempt \u001b[39m<\u001b[39m max_retries:\n\u001b[1;32m    467\u001b[0m         \u001b[39m# Exponential backoff with jitter\u001b[39;00m\n",
      "\u001b[0;31mValueError\u001b[0m: Failed to reach https://mermaid.ink/ API while trying to render your graph. Status code: 502.\n\nTo resolve this issue:\n1. Check your internet connection and try again\n2. Try with higher retry settings: `draw_mermaid_png(..., max_retries=5, retry_delay=2.0)`\n3. Use the Pyppeteer rendering method which will render your graph locally in a browser: `draw_mermaid_png(..., draw_method=MermaidDrawMethod.PYPPETEER)`"
     ]
    }
   ],
   "source": [
    "## Add\n",
    "graph_builder = builder.compile()\n",
    "\n",
    "# View\n",
    "\n",
    "display(Image(graph_builder.get_graph().draw_mermaid_png()))"
   ]
  },
  {
   "cell_type": "code",
   "execution_count": 55,
   "metadata": {},
   "outputs": [
    {
     "name": "stdout",
     "output_type": "stream",
     "text": [
      "--- Play game nodes has been called ---\n",
      "--- Badminton node has been called--- \n"
     ]
    },
    {
     "data": {
      "text/plain": [
       "{'name': 'Pawan want to play game badminton', 'game': 'badminton'}"
      ]
     },
     "execution_count": 55,
     "metadata": {},
     "output_type": "execute_result"
    }
   ],
   "source": [
    "# Invoke it\n",
    "\n",
    "graph_builder.invoke(DataClassState(name=\"Pawan\",game=\"badminton\"))"
   ]
  },
  {
   "cell_type": "code",
   "execution_count": null,
   "metadata": {},
   "outputs": [],
   "source": []
  }
 ],
 "metadata": {
  "kernelspec": {
   "display_name": "Python 3",
   "language": "python",
   "name": "python3"
  },
  "language_info": {
   "codemirror_mode": {
    "name": "ipython",
    "version": 3
   },
   "file_extension": ".py",
   "mimetype": "text/x-python",
   "name": "python",
   "nbconvert_exporter": "python",
   "pygments_lexer": "ipython3",
   "version": "3.9.6"
  },
  "orig_nbformat": 4,
  "vscode": {
   "interpreter": {
    "hash": "31f2aee4e71d21fbe5cf8b01ff0e069b9275f58929596ceb00d14d90e3e16cd6"
   }
  }
 },
 "nbformat": 4,
 "nbformat_minor": 2
}
