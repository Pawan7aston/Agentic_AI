{
 "cells": [
  {
   "cell_type": "code",
   "execution_count": 1,
   "metadata": {},
   "outputs": [],
   "source": [
    "from dotenv import load_dotenv\n",
    "load_dotenv()\n",
    "\n",
    "import os\n",
    "os.environ[\"OPENAI_API_KEY\"] = os.getenv(\"OPENAI_API_KEY\")\n",
    "os.environ[\"GROQ_API_KEY\"] = os.getenv(\"GROQ_API_KEY\")"
   ]
  },
  {
   "cell_type": "code",
   "execution_count": 2,
   "metadata": {},
   "outputs": [
    {
     "name": "stdout",
     "output_type": "stream",
     "text": [
      "==================================\u001b[1m Ai Message \u001b[0m==================================\n",
      "Name: Assistant\n",
      "\n",
      "Please tell me how can I help\n",
      "================================\u001b[1m Human Message \u001b[0m=================================\n",
      "Name: Pawan\n",
      "\n",
      "I want to learn coding\n",
      "==================================\u001b[1m Ai Message \u001b[0m==================================\n",
      "Name: Assistant\n",
      "\n",
      "Which programming Language you want to learn ?\n",
      "================================\u001b[1m Human Message \u001b[0m=================================\n",
      "Name: Pawan\n",
      "\n",
      "Hey i want to learn Python with LLM model development, explain me in 10 bullet points and make sure gap is proper between them\n"
     ]
    }
   ],
   "source": [
    "from langchain_core.messages import AIMessage,HumanMessage\n",
    "from pprint import pprint  # This library is nothing but print the messages in better way.\n",
    "messages = [AIMessage(content=f\"Please tell me how can I help\",name=\"Assistant\")]\n",
    "messages.append(HumanMessage(content=f\"I want to learn coding\",name=\"Pawan\"))\n",
    "messages.append(AIMessage(content=f\"Which programming Language you want to learn ?\",name=\"Assistant\"))\n",
    "messages.append(HumanMessage(content=f\"Hey i want to learn Python with LLM model development, explain me in 10 bullet points and make sure gap is proper between them\",name=\"Pawan\"))\n",
    "\n",
    "for mesage in messages:\n",
    "    mesage.pretty_print()\n"
   ]
  },
  {
   "cell_type": "code",
   "execution_count": 3,
   "metadata": {},
   "outputs": [],
   "source": [
    "# When Chat model called this is how AIMessage model will call and messag is extracted from the model given below.\n",
    "from langchain_groq import ChatGroq\n",
    "llm = ChatGroq(model = \"qwen/qwen3-32b\")\n",
    "result = llm.invoke(messages)\n"
   ]
  },
  {
   "cell_type": "code",
   "execution_count": 6,
   "metadata": {},
   "outputs": [
    {
     "data": {
      "text/plain": [
       "{'token_usage': {'completion_tokens': 751,\n",
       "  'prompt_tokens': 76,\n",
       "  'total_tokens': 827,\n",
       "  'completion_time': 2.293872962,\n",
       "  'prompt_time': 0.003732262,\n",
       "  'queue_time': 0.049943968,\n",
       "  'total_time': 2.297605224},\n",
       " 'model_name': 'qwen/qwen3-32b',\n",
       " 'system_fingerprint': 'fp_5cf921caa2',\n",
       " 'service_tier': 'on_demand',\n",
       " 'finish_reason': 'stop',\n",
       " 'logprobs': None}"
      ]
     },
     "execution_count": 6,
     "metadata": {},
     "output_type": "execute_result"
    }
   ],
   "source": [
    "result.response_metadata"
   ]
  },
  {
   "cell_type": "code",
   "execution_count": 7,
   "metadata": {},
   "outputs": [],
   "source": [
    "def add(a:int , b:int)->int:\n",
    "    # Here defining everything in docstring as this help LLM to understand what to do in this.\n",
    "    \"\"\"\n",
    "    Add a and b\n",
    "\n",
    "    a(int): first int\n",
    "    b(int): second int\n",
    "\n",
    "    return:\n",
    "        int\n",
    "    \"\"\"\n",
    "    return a+b"
   ]
  },
  {
   "cell_type": "code",
   "execution_count": 8,
   "metadata": {},
   "outputs": [],
   "source": [
    "def mul(a:int , b:int)->int:\n",
    "    # Here defining everything in docstring as this help LLM to understand what to do in this.\n",
    "    \"\"\"\n",
    "    Add a and b\n",
    "\n",
    "    a(int): first int\n",
    "    b(int): second int\n",
    "\n",
    "    return:\n",
    "        int\n",
    "    \"\"\"\n",
    "    return a*b"
   ]
  },
  {
   "cell_type": "code",
   "execution_count": 11,
   "metadata": {},
   "outputs": [],
   "source": [
    "## Binding tool with LLM\n",
    "llm_with_tools=llm.bind_tools([add,mul])\n",
    "tool_call=llm_with_tools.invoke([HumanMessage(content=f\"Hey what answer for 2 multiply by 3 ?\",name=\"Pawan\")])\n"
   ]
  },
  {
   "cell_type": "code",
   "execution_count": 12,
   "metadata": {},
   "outputs": [
    {
     "data": {
      "text/plain": [
       "AIMessage(content='', additional_kwargs={'reasoning_content': \"Okay, the user is asking for 2 multiplied by 3. Let me check the available tools. There's a function called 'mul' which takes two integers a and b and returns their product. So I need to call the 'mul' function with a=2 and b=3. That should give the correct result. I'll structure the tool call accordingly.\\n\", 'tool_calls': [{'id': 'qm3h7cd26', 'function': {'arguments': '{\"a\":2,\"b\":3}', 'name': 'mul'}, 'type': 'function'}]}, response_metadata={'token_usage': {'completion_tokens': 104, 'prompt_tokens': 263, 'total_tokens': 367, 'completion_time': 0.15910717, 'prompt_time': 0.012176193, 'queue_time': 0.066910627, 'total_time': 0.171283363}, 'model_name': 'qwen/qwen3-32b', 'system_fingerprint': 'fp_5cf921caa2', 'service_tier': 'on_demand', 'finish_reason': 'tool_calls', 'logprobs': None}, id='run--1a3d1d56-f57e-4500-acf1-9531f411daf3-0', tool_calls=[{'name': 'mul', 'args': {'a': 2, 'b': 3}, 'id': 'qm3h7cd26', 'type': 'tool_call'}], usage_metadata={'input_tokens': 263, 'output_tokens': 104, 'total_tokens': 367})"
      ]
     },
     "execution_count": 12,
     "metadata": {},
     "output_type": "execute_result"
    }
   ],
   "source": [
    "tool_call"
   ]
  },
  {
   "cell_type": "code",
   "execution_count": 14,
   "metadata": {},
   "outputs": [],
   "source": [
    "from typing_extensions import TypedDict\n",
    "from langgraph.graph.message import add_messages  # Reducer , it will merge messages and will not allow override messages , allow only append.\n",
    "from typing import Annotated\n",
    "from langchain_core.messages import AnyMessage\n",
    "\n",
    "class State(TypedDict):\n",
    "    messages:Annotated[list[AnyMessage],add_messages]\n",
    "    "
   ]
  },
  {
   "cell_type": "code",
   "execution_count": 15,
   "metadata": {},
   "outputs": [
    {
     "data": {
      "text/plain": [
       "[AIMessage(content='Please tell me how may i help you ', additional_kwargs={}, response_metadata={}, name='Assistant'),\n",
       " HumanMessage(content='I want to learn coding', additional_kwargs={}, response_metadata={}, name='Pawan')]"
      ]
     },
     "execution_count": 15,
     "metadata": {},
     "output_type": "execute_result"
    }
   ],
   "source": [
    "# THis is message feed to LLM model\n",
    "initial_messages = [AIMessage(content=f\"Please tell me how may i help you \", name=\"Assistant\")]\n",
    "initial_messages.append(HumanMessage(content=f\"I want to learn coding\",name=\"Pawan\"))\n",
    "initial_messages"
   ]
  },
  {
   "cell_type": "code",
   "execution_count": 16,
   "metadata": {},
   "outputs": [
    {
     "data": {
      "text/plain": [
       "AIMessage(content='Which programming language you want to learn', additional_kwargs={}, response_metadata={}, name='Assistant')"
      ]
     },
     "execution_count": 16,
     "metadata": {},
     "output_type": "execute_result"
    }
   ],
   "source": [
    "# This is another set of AI message now will feed this to LLM model , by appending this to initial_meassge also this will not override previous message\n",
    "ai_message=AIMessage(content=f\"Which programming language you want to learn\",name=\"Assistant\")\n",
    "ai_message"
   ]
  },
  {
   "cell_type": "code",
   "execution_count": 17,
   "metadata": {},
   "outputs": [
    {
     "data": {
      "text/plain": [
       "[AIMessage(content='Please tell me how may i help you ', additional_kwargs={}, response_metadata={}, name='Assistant', id='5f2d247f-82d1-4207-9bd6-b1619e7bf838'),\n",
       " HumanMessage(content='I want to learn coding', additional_kwargs={}, response_metadata={}, name='Pawan', id='815873b6-4ad4-45e6-9e68-822641380aac'),\n",
       " AIMessage(content='Which programming language you want to learn', additional_kwargs={}, response_metadata={}, name='Assistant', id='188df5a0-840b-4d5e-bd73-fb58a12c8af3')]"
      ]
     },
     "execution_count": 17,
     "metadata": {},
     "output_type": "execute_result"
    }
   ],
   "source": [
    "# Here i added initial_messages with ai_message and here we can see initial and AI message is combined together\n",
    "add_messages(initial_messages,ai_message)"
   ]
  },
  {
   "cell_type": "code",
   "execution_count": 18,
   "metadata": {},
   "outputs": [],
   "source": [
    "# Chatbot node functionality \n",
    "def llm_tool(state:State):\n",
    "    return {\"messages\":[llm_with_tools.invoke(state[\"messages\"])]}"
   ]
  },
  {
   "cell_type": "code",
   "execution_count": 19,
   "metadata": {},
   "outputs": [
    {
     "data": {
      "text/plain": [
       "<langgraph.graph.state.StateGraph at 0x123eaee50>"
      ]
     },
     "execution_count": 19,
     "metadata": {},
     "output_type": "execute_result"
    }
   ],
   "source": [
    "from IPython.display import Image , display\n",
    "from langgraph.graph import StateGraph , START,END\n",
    "builder = StateGraph(State)\n",
    "\n",
    "builder.add_node(\"llm_tool\",llm_tool)\n",
    "builder.add_edge(START,\"llm_tool\")\n",
    "builder.add_edge(\"llm_tool\",END)"
   ]
  },
  {
   "cell_type": "code",
   "execution_count": 20,
   "metadata": {},
   "outputs": [],
   "source": [
    "graph = builder.compile()"
   ]
  },
  {
   "cell_type": "code",
   "execution_count": 21,
   "metadata": {},
   "outputs": [
    {
     "data": {
      "image/png": "[encoded data removed]",
      "text/plain": [
       "<IPython.core.display.Image object>"
      ]
     },
     "metadata": {},
     "output_type": "display_data"
    }
   ],
   "source": [
    "display(Image(graph.get_graph().draw_mermaid_png()))"
   ]
  },
  {
   "cell_type": "code",
   "execution_count": 22,
   "metadata": {},
   "outputs": [],
   "source": [
    "tools = [add ,mul]\n"
   ]
  },
  {
   "cell_type": "code",
   "execution_count": 27,
   "metadata": {},
   "outputs": [
    {
     "data": {
      "image/png": "[encoded data removed]",
      "text/plain": [
       "<IPython.core.display.Image object>"
      ]
     },
     "metadata": {},
     "output_type": "display_data"
    }
   ],
   "source": [
    "from langgraph.prebuilt import ToolNode\n",
    "from langgraph.prebuilt import tools_condition\n",
    "\n",
    "builder = StateGraph(State)\n",
    "\n",
    "## Add the nodes\n",
    "\n",
    "builder.add_node(\"llm_tool\",llm_tool)\n",
    "builder.add_node(\"tools\",ToolNode(tools))\n",
    "# Add Edges\n",
    "\n",
    "builder.add_edge(START,\"llm_tool\")\n",
    "builder.add_conditional_edges(\n",
    "    \"llm_tool\",\n",
    "    # If the latest message (result) from assistant is a tool call -> Tools_condition routes to tools\n",
    "    # If the latest message (result) from assistant is not a tool call -> tools_condition outes to END\n",
    "    tools_condition\n",
    ")\n",
    "\n",
    "builder.add_edge(\"tools\",END)\n",
    "\n",
    "graph_builder = builder.compile()\n",
    "\n",
    "display(Image(graph_builder.get_graph().draw_mermaid_png()))\n"
   ]
  },
  {
   "cell_type": "code",
   "execution_count": 31,
   "metadata": {},
   "outputs": [
    {
     "name": "stdout",
     "output_type": "stream",
     "text": [
      "================================\u001b[1m Human Message \u001b[0m=================================\n",
      "\n",
      "What is multiplication of 10 and 3\n",
      "==================================\u001b[1m Ai Message \u001b[0m==================================\n",
      "Tool Calls:\n",
      "  mul (gqddctwzr)\n",
      " Call ID: gqddctwzr\n",
      "  Args:\n",
      "    a: 10\n",
      "    b: 3\n",
      "=================================\u001b[1m Tool Message \u001b[0m=================================\n",
      "Name: mul\n",
      "\n",
      "30\n"
     ]
    }
   ],
   "source": [
    "# Invocation\n",
    "\n",
    "messages = graph_builder.invoke({\"messages\":\"What is multiplication of 10 and 3\"})\n",
    "\n",
    "for message in messages[\"messages\"]:\n",
    "    message.pretty_print()"
   ]
  },
  {
   "cell_type": "code",
   "execution_count": 32,
   "metadata": {},
   "outputs": [
    {
     "name": "stdout",
     "output_type": "stream",
     "text": [
      "================================\u001b[1m Human Message \u001b[0m=================================\n",
      "\n",
      "What is machine learning\n",
      "==================================\u001b[1m Ai Message \u001b[0m==================================\n",
      "\n",
      "The functions provided (add and multiply) are not applicable for defining machine learning. Here's an explanation:\n",
      "\n",
      "**Machine learning** is a subset of artificial intelligence that enables computers to learn patterns and make decisions from data without being explicitly programmed. It involves:\n",
      "1. **Data input**: Feeding large amounts of relevant data\n",
      "2. **Pattern recognition**: Identifying patterns in the data\n",
      "3. **Model training**: Using algorithms to \"learn\" from the data\n",
      "4. **Prediction/Decisions**: Applying what's been learned to make predictions or decisions\n",
      "\n",
      "Common types include supervised learning (with labeled data), unsupervised learning (finding hidden patterns), and reinforcement learning (learning through trial/error with rewards). Examples include spam filters, recommendation systems, and image recognition.\n"
     ]
    }
   ],
   "source": [
    "# Invocation without tool_message\n",
    "\n",
    "messages = graph_builder.invoke({\"messages\":\"What is machine learning\"})\n",
    "\n",
    "for message in messages[\"messages\"]:\n",
    "    message.pretty_print()"
   ]
  },
  {
   "cell_type": "code",
   "execution_count": null,
   "metadata": {},
   "outputs": [],
   "source": []
  }
 ],
 "metadata": {
  "kernelspec": {
   "display_name": "Python 3",
   "language": "python",
   "name": "python3"
  },
  "language_info": {
   "codemirror_mode": {
    "name": "ipython",
    "version": 3
   },
   "file_extension": ".py",
   "mimetype": "text/x-python",
   "name": "python",
   "nbconvert_exporter": "python",
   "pygments_lexer": "ipython3",
   "version": "3.9.6 (default, Aug  8 2025, 19:06:38) \n[Clang 17.0.0 (clang-1700.3.19.1)]"
  },
  "orig_nbformat": 4,
  "vscode": {
   "interpreter": {
    "hash": "31f2aee4e71d21fbe5cf8b01ff0e069b9275f58929596ceb00d14d90e3e16cd6"
   }
  }
 },
 "nbformat": 4,
 "nbformat_minor": 2
}
