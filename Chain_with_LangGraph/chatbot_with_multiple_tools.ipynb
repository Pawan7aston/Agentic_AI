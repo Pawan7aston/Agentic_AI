{
 "cells": [
  {
   "attachments": {},
   "cell_type": "markdown",
   "metadata": {},
   "source": [
    "## Building a Chatbot with multiple tools using LangGraph\n",
    "\n",
    "### Aim\n",
    "\n",
    "- Create a chatbot with tools capabilities from arxiv,wikipedia search and some functions\n"
   ]
  },
  {
   "cell_type": "code",
   "execution_count": 1,
   "metadata": {},
   "outputs": [
    {
     "name": "stderr",
     "output_type": "stream",
     "text": [
      "/Users/pawanrai/Documents/Agentic_AI/myenv_Agentic/lib/python3.9/site-packages/urllib3/__init__.py:35: NotOpenSSLWarning: urllib3 v2 only supports OpenSSL 1.1.1+, currently the 'ssl' module is compiled with 'LibreSSL 2.8.3'. See: https://github.com/urllib3/urllib3/issues/3020\n",
      "  warnings.warn(\n"
     ]
    }
   ],
   "source": [
    "from langchain_community.utilities.wikipedia import WikipediaAPIWrapper\n",
    "from langchain_community.utilities.arxiv import ArxivAPIWrapper\n",
    "from langchain_community.tools.arxiv.tool import ArxivQueryRun\n",
    "from langchain_community.tools import WikipediaQueryRun"
   ]
  },
  {
   "cell_type": "code",
   "execution_count": 2,
   "metadata": {},
   "outputs": [
    {
     "name": "stdout",
     "output_type": "stream",
     "text": [
      "arxiv\n"
     ]
    }
   ],
   "source": [
    "# Read for Arxiv\n",
    "api_wrapper_arxiv = ArxivAPIWrapper(top_k_results=2 , doc_content_chars_max=500)\n",
    "arxiv = ArxivQueryRun(api_wrapper=api_wrapper_arxiv)\n",
    "print(arxiv.name)"
   ]
  },
  {
   "cell_type": "code",
   "execution_count": 3,
   "metadata": {},
   "outputs": [
    {
     "data": {
      "text/plain": [
       "\"Published: 2024-07-22\\nTitle: Attention Is All You Need But You Don't Need All Of It For Inference of Large Language Models\\nAuthors: Georgy Tyukin, Gbetondji J-S Dovonon, Jean Kaddour, Pasquale Minervini\\nSummary: The inference demand for LLMs has skyrocketed in recent months, and serving\\nmodels with low latencies remains challenging due to the quadratic input length\\ncomplexity of the attention layers. In this work, we investigate the effect of\\ndropping MLP and attention layers at inference time o\""
      ]
     },
     "execution_count": 3,
     "metadata": {},
     "output_type": "execute_result"
    }
   ],
   "source": [
    "arxiv.invoke(\"Attention is all you need\")"
   ]
  },
  {
   "attachments": {},
   "cell_type": "markdown",
   "metadata": {},
   "source": [
    "- Now in above cell when **`arxiv`** is invoked , for research paper named as **`Attention is all you need`** , it will search for whole arxiv paper and give you top best results out of it"
   ]
  },
  {
   "cell_type": "code",
   "execution_count": 4,
   "metadata": {},
   "outputs": [
    {
     "name": "stdout",
     "output_type": "stream",
     "text": [
      "wikipedia\n"
     ]
    }
   ],
   "source": [
    "## WIKIEDIA\n",
    "\n",
    "api_wrapper_wiki = WikipediaAPIWrapper(top_k_results=1 , doc_content_chars_max=500)\n",
    "wiki = WikipediaQueryRun(api_wrapper=api_wrapper_wiki)\n",
    "print(wiki.name)"
   ]
  },
  {
   "cell_type": "code",
   "execution_count": 5,
   "metadata": {},
   "outputs": [
    {
     "data": {
      "text/plain": [
       "'Page: Tesla, Inc.\\nSummary: Tesla, Inc. ( TEZ-lə or   TESS-lə) is an American multinational automotive and clean energy company. Headquartered in Austin, Texas, it designs, manufactures and sells battery electric vehicles (BEVs), stationary battery energy storage devices from home to grid-scale, solar panels and solar shingles, and related products and services.\\nTesla was incorporated in July 2003 by Martin Eberhard and Marc Tarpenning as Tesla Motors. Its name is a tribute to the inventor and el'"
      ]
     },
     "execution_count": 5,
     "metadata": {},
     "output_type": "execute_result"
    }
   ],
   "source": [
    "wiki.invoke(\"What is full form of TESLA\")"
   ]
  },
  {
   "attachments": {},
   "cell_type": "markdown",
   "metadata": {},
   "source": [
    "## **`Tavily Search`** \n",
    "\n",
    "- Basically Tavily search is used for searching or browsing content . It need API key to fetch the details , monthly it provides 1000 search."
   ]
  },
  {
   "cell_type": "code",
   "execution_count": 6,
   "metadata": {},
   "outputs": [],
   "source": [
    "from dotenv import load_dotenv\n",
    "load_dotenv()\n",
    "import os\n",
    "\n",
    "os.environ['TAVILY_API_KEY'] = os.getenv(\"TAVILY_API_KEY\")\n",
    "os.environ[\"GROQ_API_KEY\"] = os.getenv(\"GROQ_API_KEY\")"
   ]
  },
  {
   "cell_type": "code",
   "execution_count": 7,
   "metadata": {},
   "outputs": [
    {
     "name": "stderr",
     "output_type": "stream",
     "text": [
      "/var/folders/3w/93q0p4yx18x1yzz2mdxyb0lr0000gn/T/ipykernel_76536/2848471507.py:3: LangChainDeprecationWarning: The class `TavilySearchResults` was deprecated in LangChain 0.3.25 and will be removed in 1.0. An updated version of the class exists in the :class:`~langchain-tavily package and should be used instead. To use it run `pip install -U :class:`~langchain-tavily` and import as `from :class:`~langchain_tavily import TavilySearch``.\n",
      "  tavily_tools = TavilySearchResults()\n"
     ]
    }
   ],
   "source": [
    "## Getting my Tavily search tool\n",
    "from langchain_community.tools.tavily_search import TavilySearchResults\n",
    "tavily_tools = TavilySearchResults()"
   ]
  },
  {
   "cell_type": "code",
   "execution_count": 8,
   "metadata": {},
   "outputs": [
    {
     "data": {
      "text/plain": [
       "[{'title': 'Tavily Search - ️   LangChain',\n",
       "  'url': 'https://python.langchain.com/docs/integrations/tools/tavily_search/',\n",
       "  'content': 'Skip to main content\\n\\nThese docs will be deprecated and no longer maintained with the release of LangChain v1.0 in October 2025. Visit the v1.0 alpha docs\\n\\n# Tavily Search\\n\\nTavily\\'s Search API is a search engine built specifically for AI agents (LLMs), delivering real-time, accurate, and factual results at speed.\\n\\n## Overview\\u200b\\n\\n### Integration details\\u200b\\n\\n| Class | Package | Serializable | JS support | Package latest |\\n ---  --- \\n| TavilySearch | langchain-tavily | ✅ | ✅ |  |\\n\\n### Tool features\\u200b [...] # Initialize Tavily Search Tool tavily_search_tool = TavilySearch(tavily_search_tool =  TavilySearch(    max_results=5,     max_results = 5,     topic=\"general\",     topic = \"general\", ) )  agent = create_react_agent(llm, [tavily_search_tool]) agent =  create_react_agent(llm,  [tavily_search_tool])  user_input = \"What nation hosted the Euro 2024? Include only wikipedia sources.\" user_input =  \"What nation hosted the Euro 2024? Include only wikipedia sources.\"  for step in agent.stream( for [...] import getpass import  getpass import os import  os if not os.environ.get(\"GOOGLE_API_KEY\"): if  not  os. environ. get(\"GOOGLE_API_KEY\"):   os.environ[\"GOOGLE_API_KEY\"] = getpass.getpass(\"Enter API key for Google Gemini: \")   os. environ[\"GOOGLE_API_KEY\"]  =  getpass. getpass(\"Enter API key for Google Gemini: \")  from langchain.chat_models import init_chat_model from  langchain. chat_models import  init_chat_model llm = init_chat_model(\"gemini-2.5-flash\", model_provider=\"google_genai\") llm =',\n",
       "  'score': 0.8201387},\n",
       " {'title': 'Frequently Asked Questions - Tavily Docs',\n",
       "  'url': 'https://docs.tavily.com/faq/faq',\n",
       "  'content': 'Tavily Search API - A search engine designed for AI agents, combining search and scraping capabilities.\\n Tavily Extract API - Scrape up to 20 URLs in a single API call.\\n Tavily Crawl API - Map and crawl domains efficiently.\\n\\n \\n\\nWhat is Tavily Search API?\\n\\nTavily Search API is a specialized search engine designed for LLMs and AI agents. It provides real-time, customizable, and RAG-ready search results and extracted content, enabling AI applications to retrieve and process data efficiently. [...] Traditional Search APIs: Unlike Bing, Google, or SerpAPI, Tavily dynamically searches the web, reviews multiple sources, and extracts the most relevant content, delivering concise, ready-to-use information optimized for AI applications.AI Answer Engine APIs: Unlike Perplexity Sonar API or OpenAI Web Search API, Tavily focuses on delivering high-quality, customizable search results. Developers control search depth, domain targeting, and content extraction. LLM-generated answers are optional, [...] Built for AI – Designed for AI workflows like Retrieval-Augmented Generation (RAG) with structured and customizable search.\\n Customizable – Control search depth, target specific domains, extract full page content, and get an LLM-generated response in one API call.\\n Real-time & Reliable – Delivers up-to-date and real-time results.\\n Easy Integration – Simple API setup with support for Python, JavaScript, LangChain, and LlamaIndex.',\n",
       "  'score': 0.78866494},\n",
       " {'title': 'Tavily - The Web Access Layer for AI Agents',\n",
       "  'url': 'https://tavily.com/',\n",
       "  'content': 'Unlike Bing, Google and SerpAPI, Tavily Search API reviews multiple sources to find the most relevant content from each source, delivering concise, ready-to-use information optimized for LLM context. This focus on RAG and LLMs ensures your AI applications access only the highest-quality data. Tavily Search API is also more affordable and flexible. [...] Tavily offers scalable Search, Extract, Map, and Crawl APIs, all of which were built specifically to enrich agents and LLMs with instant, up-to-date, cleaned and structured content from the web. [...] Unleash production-ready agents with a search API designed for LLMs.Delivering fast and relevant results that reduce hallucinations and make agents more powerful.\\n\\n`1 2 3 4` `from tavily import TavilyClient tavily_client = TavilyClient(api_key=\"tvly-YOUR_API_KEY\") response = tavily_client.search(\"Who is Leo Messi?\") print(response)`',\n",
       "  'score': 0.750937},\n",
       " {'title': 'Tavily — The API-powered Alternative to Perplexity? | by AI Rabbit',\n",
       "  'url': 'https://medium.com/@airabbitX/tavily-the-api-powered-alternative-to-perplexity-edfdc6814b39',\n",
       "  'content': 'In simple terms, Tavily is a search service (like Serper or serpapi) with one big advantage: it is built from the ground up for LLM search. Put plainly, you can just ask a question and it can search the internet for you, then answer that specific question. Best of all, it’s entirely accessible via an API.\\n\\n## Create an account to read the full story.\\n\\nThe author made this story available to Medium members only.  \\nIf you’re new to Medium, create a new account to read this story on us. [...] And here is where Tavily steps in. If you haven’t heard of them, they’re the driving force behind the open source research gpt.\\n\\n> With GPT Researcher, you can do exactly what you would expect: AI-powered research using facts from the internet or even on-premise documents, powered by LLMs. It has become incredibly powerful. It’s worth taking a look at.\\n\\n### So what is Tavily about?',\n",
       "  'score': 0.7463059},\n",
       " {'title': 'Tavily – Real-Time AI Web Search Engine for LLMs & Agents',\n",
       "  'url': 'https://aiagents.saastrac.com/ai-agent/tavily/',\n",
       "  'content': 'Tavily transforms your AI workflows by acting as a real-time intelligence layer between your agents and the web. It’s a search engine optimized for machine consumption—fast, factual, and free of clutter. Developers use it to power chatbots, autonomous agents, research apps, and more.\\n\\nBest for: AI researchers, RAG developers, autonomous agent builders Not ideal for: Static apps with no real-time data requirements\\n\\n## Tavily Product Review\\n\\n### Key Features [...] Struggling with outdated or hallucinated answers from your AI apps? Tavily brings your LLMs to life with real-time, accurate, and citation-backed web search. Designed specifically for modern AI agents and RAG pipelines, Tavily connects your models directly to the live internet—eliminating blind spots and keeping your answers trustworthy. Instant answers. Reliable data. Built for smart applications.\\n\\nVisit Tavily\\n\\n## Overall Value [...] ### Technical Specifications\\n\\n API Access: Python, Node.js, cURL\\n Latency: Sub-second\\n Security: SOC 2 compliant, GDPR aligned\\n Credits: Usage-based (1 credit = 1 search)\\n Citations Included: Yes\\n Customization: Custom endpoints for enterprise\\n Output Format: Structured JSON with titles, snippets, and source URLs\\n Monitoring: Playground and usage dashboard\\n\\n#### A smarter internet for smarter AI.\\n\\n(\\n\\n## FAQs\\n\\nHow does Tavily enhance LLM responses?',\n",
       "  'score': 0.7451949}]"
      ]
     },
     "execution_count": 8,
     "metadata": {},
     "output_type": "execute_result"
    }
   ],
   "source": [
    "tavily_tools.invoke(\"Provide me detail for Tavily search engine for LLM use\")"
   ]
  },
  {
   "cell_type": "code",
   "execution_count": 9,
   "metadata": {},
   "outputs": [
    {
     "data": {
      "text/plain": [
       "[{'title': 'Indian Renewable Energy Development Agency Share Price Today',\n",
       "  'url': 'https://www.cnbctv18.com/market/stocks/indian-renewable-energy-development-agency-share-price/IREDAL/',\n",
       "  'content': 'Indian Renewable Energy Development Agency (NSE: IREDA) is up 1.71% from its previous close price Rs. 146.28. The last updated share price is Rs. 148.78 as of 2025-09-29 15:59:00. Market capitalization of the stock is Rs. 39,988.56. Indian Renew is a constituent of BSE Select IPO, BSE Diversified Financials Revenue Growth, etc, as of 2025-09-29 15:59:00. The current traded volume of Indian Renew is 64,47,550. The share price performance over the last 5 trading sessions is -7.52%. The ratio of [...] | Meeting date | purpose | Details |\\n --- \\n| July 10, 2025 | Quarterly Results |  |\\n| March 25, 2025 | To consider Fund Raising |  |\\n| March 17, 2025 | Others | Inter alia, to consider and approve the proposal for enhancement of borrowing plan for FY 2024-25. |\\n| January 23, 2025 | Others | Inter-alia, to consider 1. Raising of funds through the issuance of equity shares. 2. EGM Notice for seeking approval of the Shareholders of the Company in respect of, inter-alia raising of funds. | [...] ## Frequently Asked Questions on Indian Renewable Energy Development Agency\\n\\nStock Price of Indian Renewable Energy Development Agency is Rs. 148.78 on NSE as of 2025-09-29 15:59:00.\\n\\nEarning per share (EPS) of Indian Renewable Energy Development Agency is Rs. undefined. Its Price to Earnings ratio is 23.54 as compared to sectoral P/E of 13.59.\\n\\nMarket capitalization of Indian Renewable Energy Development Agency is Rs. 39988.56 Cr on NSE.',\n",
       "  'score': 0.82492816},\n",
       " {'title': \"IREDA shares rise 2.03% in today's trading session - Moneycontrol\",\n",
       "  'url': 'https://www.moneycontrol.com/news/business/stocks/ireda-shares-rise-2-03-in-today-s-trading-session-alpha-article-13587254.html',\n",
       "  'content': \"Indian Renewable Energy Development Agency shares gained 2.03% to trade at Rs 149.25 in Monday's session. Alpha Desk. first published: Sep 29,\",\n",
       "  'score': 0.82186085},\n",
       " {'title': \"IREDA shares drop 31% in 2025 so far; here's what analysts say\",\n",
       "  'url': 'https://www.businesstoday.in/markets/stocks/story/ireda-shares-drop-31-in-2025-so-far-heres-what-analysts-say-495537-2025-09-24',\n",
       "  'content': \"Prashun Talukdar\\nTrusted Source Badge\\nIREDA shares drop 31% in 2025 so far; here's what analysts sayIREDA: The stock has declined 31.15 per cent so far in the calendar year 2025.\\n\\nShares of Indian Renewable Energy Development Agency Ltd (IREDA) dropped 2.02 per cent to close at Rs 152.70 on Wednesday. At this level, the stock has declined 31.15 per cent so far in the calendar year 2025. [...] Business Today\\n\\nBT tech today\\nBT 500 wealth creators summit\\nEconomic Indicators\\n\\nBT India 100\\nBT Golf\\nBT Mindrush\\n\\nHome\\n\\nMarket\\n\\nBT TV\\n\\nReels\\n\\nMenu\\n\\n# IREDA shares drop 31% in 2025 so far; here's what analysts say\\n\\n## IREDA: The state-run firm recently raised Rs 453 crore at an interest rate of 7.70 per cent per annum through its second issue of perpetual bonds, aimed at bolstering its capital base for financing renewable energy projects. [...] In August 2025, IREDA signed a performance-based Memorandum of Understanding (MoU) with the Ministry of New and Renewable Energy (MNRE), setting a revenue from operations target of Rs 8,200 crore for FY26. The company had reported revenue from operations of Rs 6,743.32 crore in FY25, exceeding its target of Rs 5,957 crore.\",\n",
       "  'score': 0.6922474},\n",
       " {'title': 'Indian Renewable Energy Development Agency Limited - NSE',\n",
       "  'url': 'https://www.nseindia.com/get-quotes/equity?symbol=IREDA',\n",
       "  'content': 'Indian Renewable Energy Development Agency Limited Share Price Today, Live NSE Stock ... updates, quotes, offers, annual financial reports, graph, volumes',\n",
       "  'score': 0.64746445},\n",
       " {'title': 'Buy or sell: Vaishali Parekh recommends three stocks to buy today',\n",
       "  'url': 'https://www.livemint.com/market/stock-market-news/buy-or-sell-vaishali-parekh-recommends-three-stocks-to-buy-today-29-september-2025-11759110731926.html',\n",
       "  'content': 'Vaishali Parekh, Vice President of Technical Research at Prabhudas Lilladher, believes the Indian stock market sentiment has weakened as the Nifty 50 index slipped below the crucial 24,800 support. Now, the index has immediate support at 24,550 to 24,500 levels, while essential support is placed at 24,300 to 24,250. The Prabhudas Lilladher expert said the key benchmark index may try to test 24,400 to 24,350 in the near term. [...] Buy or sell stocks: Following the escalation in trade worries after Trump\\'s pharma tariff, the key benchmark indices of the Indian stock market ended lower for the seventh straight session on Friday last week. The Nifty 50 index moved from 25,423 to 24,654 in these seven successive sessions, logging over 750 points or around 3% dip in this sharp selling. The BSE Sensex has shrunk from 83,013 to 80,426 levels, recording 2,767 points or a 3.33% dip. [...] would turn weak, triggering fresh intensified selling pressure in the coming days, with the next support at 200-period SMA near 24,100 level.\"',\n",
       "  'score': 0.07280148}]"
      ]
     },
     "execution_count": 9,
     "metadata": {},
     "output_type": "execute_result"
    }
   ],
   "source": [
    "tavily_tools.invoke(\"Provide me detail for IREDA share news for today\")"
   ]
  },
  {
   "cell_type": "code",
   "execution_count": 10,
   "metadata": {},
   "outputs": [],
   "source": [
    "### Now will combine all tools into a List \n",
    "\n",
    "tools = [arxiv , wiki , tavily_tools]"
   ]
  },
  {
   "cell_type": "code",
   "execution_count": 11,
   "metadata": {},
   "outputs": [],
   "source": [
    "## Initilize my LLM model\n",
    "from langchain_groq import ChatGroq\n",
    "llm = ChatGroq(model = \"qwen/qwen3-32b\")\n",
    "llm_with_tools = llm.bind_tools(tools)\n"
   ]
  },
  {
   "cell_type": "code",
   "execution_count": 19,
   "metadata": {},
   "outputs": [],
   "source": [
    "from pprint import pprint\n",
    "from langchain_core.messages import AIMessage,HumanMessage\n",
    "response = llm_with_tools.invoke([HumanMessage(content=f\"What is recent AI news  for last two days ?\")])\n"
   ]
  },
  {
   "cell_type": "code",
   "execution_count": 20,
   "metadata": {},
   "outputs": [
    {
     "name": "stdout",
     "output_type": "stream",
     "text": [
      "AIMessage(content='', additional_kwargs={'reasoning_content': 'Okay, the user is asking for recent AI news from the last two days. I need to figure out which tool to use here. The available tools are arxiv, wikipedia, and tavily_search_results_json.\\n\\nArxiv is for scientific articles, which might not cover news. Wikipedia is for general knowledge and historical information, but not the latest news. Tavily is described as a search engine for current events. That fits the user\\'s request best. So I should use tavily_search_results_json with the query \"recent AI news last two days\".\\n', 'tool_calls': [{'id': '61jr3vrnp', 'function': {'arguments': '{\"query\":\"recent AI news last two days\"}', 'name': 'tavily_search_results_json'}, 'type': 'function'}]}, response_metadata={'token_usage': {'completion_tokens': 145, 'prompt_tokens': 404, 'total_tokens': 549, 'completion_time': 0.250570803, 'prompt_time': 0.01675293, 'queue_time': 0.05598515, 'total_time': 0.267323733}, 'model_name': 'qwen/qwen3-32b', 'system_fingerprint': 'fp_5cf921caa2', 'service_tier': 'on_demand', 'finish_reason': 'tool_calls', 'logprobs': None}, id='run--b0743e97-b76f-4976-99ef-70d14c83107c-0', tool_calls=[{'name': 'tavily_search_results_json', 'args': {'query': 'recent AI news last two days'}, 'id': '61jr3vrnp', 'type': 'tool_call'}], usage_metadata={'input_tokens': 404, 'output_tokens': 145, 'total_tokens': 549})\n"
     ]
    }
   ],
   "source": [
    "pprint(response)"
   ]
  },
  {
   "cell_type": "code",
   "execution_count": 17,
   "metadata": {},
   "outputs": [
    {
     "name": "stdout",
     "output_type": "stream",
     "text": [
      "Agent made the following tool calls:\n",
      "[{'args': {'query': 'recent AI news last two days'},\n",
      "  'id': 'qvpsse12s',\n",
      "  'name': 'tavily_search_results_json',\n",
      "  'type': 'tool_call'}]\n",
      "\n",
      "--- Tool Call Details ---\n",
      "Tool Name: tavily_search_results_json\n",
      "Tool Arguments: {'query': 'recent AI news last two days'}\n",
      "Tool Call ID: qvpsse12s\n"
     ]
    }
   ],
   "source": [
    "tool_calls = response.tool_calls\n",
    "\n",
    "if tool_calls:\n",
    "    print(\"Agent made the following tool calls:\")\n",
    "    pprint(tool_calls)\n",
    "    \n",
    "    # You can loop through them to get details\n",
    "    for tool_call in tool_calls:\n",
    "        print(\"\\n--- Tool Call Details ---\")\n",
    "        print(f\"Tool Name: {tool_call.get('name')}\")\n",
    "        print(f\"Tool Arguments: {tool_call.get('args')}\")\n",
    "        print(f\"Tool Call ID: {tool_call.get('id')}\")\n",
    "else:\n",
    "    print(\"No tools were called.\")"
   ]
  },
  {
   "cell_type": "code",
   "execution_count": 21,
   "metadata": {},
   "outputs": [],
   "source": [
    "# Define State schema\n",
    "from typing_extensions import TypedDict\n",
    "from langchain_core.messages import AnyMessage\n",
    "from typing import Annotated\n",
    "from langgraph.graph.message import add_messages\n",
    "class State(TypedDict):\n",
    "    messages:Annotated[list[AnyMessage],add_messages]"
   ]
  },
  {
   "cell_type": "code",
   "execution_count": 23,
   "metadata": {},
   "outputs": [
    {
     "data": {
      "image/png": "[encoded data removed]",
      "text/plain": [
       "<IPython.core.display.Image object>"
      ]
     },
     "metadata": {},
     "output_type": "display_data"
    }
   ],
   "source": [
    "### Now we have create an entire chatbot , calling StateGraph tool condition etc\n",
    "\n",
    "from IPython.display import Image,display\n",
    "from langgraph.graph import StateGraph,START,END\n",
    "from langgraph.prebuilt import ToolNode\n",
    "from langgraph.prebuilt import tools_condition\n",
    "\n",
    "\n",
    "def tool_calling_llm(state:State):\n",
    "    return {\"messages\":[llm_with_tools.invoke(state[\"messages\"])]}\n",
    "\n",
    "##  Node definition\n",
    "\n",
    "builder = StateGraph(State)\n",
    "builder.add_node(\"tool_calling_llm\",tool_calling_llm)\n",
    "builder.add_node(\"tools\",ToolNode(tools))\n",
    "\n",
    "\n",
    "## Edge definition\n",
    "\n",
    "builder.add_edge(START,\"tool_calling_llm\")\n",
    "builder.add_conditional_edges(\n",
    "    \"tool_calling_llm\",\n",
    "    # If the latest message (result) from assistant is a tool call -> Tools_condition routes to tools\n",
    "    # If the latest message (result) from assistant is not a tool call -> tools_condition outes to END\n",
    "    tools_condition\n",
    ")\n",
    "\n",
    "builder.add_edge(\"tools\",END)\n",
    "\n",
    "graph_builder = builder.compile()\n",
    "\n",
    "display(Image(graph_builder.get_graph().draw_mermaid_png()))"
   ]
  },
  {
   "cell_type": "code",
   "execution_count": 26,
   "metadata": {},
   "outputs": [
    {
     "name": "stdout",
     "output_type": "stream",
     "text": [
      "================================\u001b[1m Human Message \u001b[0m=================================\n",
      "\n",
      "Attention is all you need\n",
      "==================================\u001b[1m Ai Message \u001b[0m==================================\n",
      "Tool Calls:\n",
      "  arxiv (1mq86rw4m)\n",
      " Call ID: 1mq86rw4m\n",
      "  Args:\n",
      "    query: Attention Is All You Need\n",
      "=================================\u001b[1m Tool Message \u001b[0m=================================\n",
      "Name: arxiv\n",
      "\n",
      "Published: 2024-07-22\n",
      "Title: Attention Is All You Need But You Don't Need All Of It For Inference of Large Language Models\n",
      "Authors: Georgy Tyukin, Gbetondji J-S Dovonon, Jean Kaddour, Pasquale Minervini\n",
      "Summary: The inference demand for LLMs has skyrocketed in recent months, and serving\n",
      "models with low latencies remains challenging due to the quadratic input length\n",
      "complexity of the attention layers. In this work, we investigate the effect of\n",
      "dropping MLP and attention layers at inference time o\n"
     ]
    }
   ],
   "source": [
    "# Invocation\n",
    "\n",
    "## Here you can see below in results in AI message Tool calls: It will give arxiv\n",
    "\n",
    "messages = graph_builder.invoke({\"messages\":\"Attention is all you need\"})\n",
    "\n",
    "for message in messages[\"messages\"]:\n",
    "    message.pretty_print()"
   ]
  },
  {
   "cell_type": "code",
   "execution_count": 29,
   "metadata": {},
   "outputs": [
    {
     "name": "stdout",
     "output_type": "stream",
     "text": [
      "================================\u001b[1m Human Message \u001b[0m=================================\n",
      "\n",
      "Who won Asian cricket championship between India and Pakistan 2025 ?\n",
      "==================================\u001b[1m Ai Message \u001b[0m==================================\n",
      "\n",
      "The Asian Cricket Championship (ACC) has been rebranded as the Asia Cup. The most recent Asia Cup final in 2023 was won by India, who defeated Pakistan in the final. However, you mentioned **2025**, which is a future event. As of now, the 2025 Asia Cup has not occurred, and there are no official results. If you meant the 2023 match, India won. If you are asking about 2025, the outcome is yet to be determined.\n"
     ]
    }
   ],
   "source": [
    "# Invocation\n",
    "\n",
    "## Here you can see below in results in AI message Tool calls: It will give Tavily\n",
    "\n",
    "messages = graph_builder.invoke({\"messages\":\"Who won Asian cricket championship between India and Pakistan 2025 ?\"})\n",
    "\n",
    "for message in messages[\"messages\"]:\n",
    "    message.pretty_print()"
   ]
  },
  {
   "cell_type": "code",
   "execution_count": 30,
   "metadata": {},
   "outputs": [
    {
     "name": "stdout",
     "output_type": "stream",
     "text": [
      "================================\u001b[1m Human Message \u001b[0m=================================\n",
      "\n",
      "Who is Elon Musk ?\n",
      "==================================\u001b[1m Ai Message \u001b[0m==================================\n",
      "Tool Calls:\n",
      "  wikipedia (0wymqfewn)\n",
      " Call ID: 0wymqfewn\n",
      "  Args:\n",
      "    query: Elon Musk\n",
      "=================================\u001b[1m Tool Message \u001b[0m=================================\n",
      "Name: wikipedia\n",
      "\n",
      "Page: Elon Musk\n",
      "Summary: Elon Reeve Musk ( EE-lon; born June 28, 1971) is an international businessman and entrepreneur known for his leadership of Tesla, SpaceX, X (formerly Twitter), and the Department of Government Efficiency (DOGE). Musk has been the wealthiest person in the world since 2021; as of May 2025, Forbes estimates his net worth to be US$424.7 billion.\n",
      "Born to a wealthy family in Pretoria, South Africa, Musk emigrated in 1989 to Canada; he had obtained Canadian citizenship at birth\n"
     ]
    }
   ],
   "source": [
    "# Invocation\n",
    "\n",
    "## Here you can see below in results in AI message Tool calls: It will give wikipedia\n",
    "\n",
    "messages = graph_builder.invoke({\"messages\":\"Who is Elon Musk ?\"})\n",
    "\n",
    "for message in messages[\"messages\"]:\n",
    "    message.pretty_print()"
   ]
  },
  {
   "cell_type": "code",
   "execution_count": null,
   "metadata": {},
   "outputs": [],
   "source": []
  }
 ],
 "metadata": {
  "kernelspec": {
   "display_name": "myenv_Agentic",
   "language": "python",
   "name": "python3"
  },
  "language_info": {
   "codemirror_mode": {
    "name": "ipython",
    "version": 3
   },
   "file_extension": ".py",
   "mimetype": "text/x-python",
   "name": "python",
   "nbconvert_exporter": "python",
   "pygments_lexer": "ipython3",
   "version": "3.9.6"
  },
  "orig_nbformat": 4,
  "vscode": {
   "interpreter": {
    "hash": "4ea371da3f893ecf0d5fdf16f991e4d0bfea068c00a620d0dfcf43845c168de9"
   }
  }
 },
 "nbformat": 4,
 "nbformat_minor": 2
}
