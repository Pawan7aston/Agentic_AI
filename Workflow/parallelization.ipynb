{
 "cells": [
  {
   "attachments": {},
   "cell_type": "markdown",
   "metadata": {},
   "source": [
    "In **LangChain**, **parallelization** :\n",
    "refers to the process of executing multiple tasks concurrently rather than sequentially, which can significantly speed up workflows that involve multiple calls to language models, APIs, or chains. This is particularly useful when you have independent operations that don’t need to wait for each other.\n",
    "\n",
    "Here’s a detailed breakdown:\n",
    "\n",
    "---\n",
    "\n",
    "### **1. Why Parallelization Matters in LangChain**\n",
    "\n",
    "* LangChain workflows often involve **chains** or **agents** that call LLMs, tools, or APIs.\n",
    "* By default, these calls happen **sequentially**, which can be slow if you’re making multiple requests.\n",
    "* Parallelization allows you to **execute multiple calls simultaneously**, reducing latency.\n",
    "\n",
    "---\n",
    "\n",
    "### **2. How Parallelization Works**\n",
    "\n",
    "LangChain provides **tools** to parallelize tasks:\n",
    "\n",
    "#### **a) `map` and `map_reduce` in LLMChain**\n",
    "\n",
    "* Suppose you have a list of prompts that you want to process using the same LLM.\n",
    "* Instead of processing them one by one:\n",
    "\n",
    "```python\n",
    "from langchain.chains import LLMChain\n",
    "from langchain.prompts import PromptTemplate\n",
    "from langchain.llms import OpenAI\n",
    "\n",
    "llm = OpenAI()\n",
    "template = \"Summarize the following text: {text}\"\n",
    "prompt = PromptTemplate(template=template, input_variables=[\"text\"])\n",
    "chain = LLMChain(llm=llm, prompt=prompt)\n",
    "\n",
    "texts = [\"Text 1...\", \"Text 2...\", \"Text 3...\"]\n",
    "\n",
    "# Sequential processing (slower)\n",
    "results = [chain.run({\"text\": t}) for t in texts]\n",
    "\n",
    "# Parallel processing (faster)\n",
    "results_parallel = chain.parallel_run([{\"text\": t} for t in texts])\n",
    "```\n",
    "\n",
    "Here, `parallel_run` executes LLM calls concurrently.\n",
    "\n",
    "---\n",
    "\n",
    "#### **b) `ThreadPoolExecutor` / `ProcessPoolExecutor`**\n",
    "\n",
    "* LangChain chains and agents can also be run in **custom parallel pipelines** using Python’s `concurrent.futures`.\n",
    "* Useful when you need fine-grained control over parallelism.\n",
    "\n",
    "---\n",
    "\n",
    "#### **c) Agent Parallelization**\n",
    "\n",
    "* If an agent needs to call **multiple tools independently**, you can run those calls in parallel using async functions:\n",
    "\n",
    "```python\n",
    "import asyncio\n",
    "\n",
    "async def run_agents_in_parallel(agent_inputs):\n",
    "    tasks = [agent.arun(input_text) for input_text in agent_inputs]\n",
    "    return await asyncio.gather(*tasks)\n",
    "\n",
    "results = asyncio.run(run_agents_in_parallel([\"Query 1\", \"Query 2\", \"Query 3\"]))\n",
    "```\n",
    "\n",
    "---\n",
    "\n",
    "### **3. Benefits**\n",
    "\n",
    "* **Speed**: Executes multiple LLM/API calls concurrently.\n",
    "* **Efficiency**: Reduces idle time between sequential requests.\n",
    "* **Scalability**: Handles batch processing more effectively.\n",
    "\n",
    "---\n",
    "\n",
    "### **4. Important Considerations**\n",
    "\n",
    "* **Rate limits**: LLM APIs like OpenAI may have request limits, so parallelization could hit those limits.\n",
    "* **Resource usage**: More parallel tasks mean more CPU/memory or more concurrent API calls.\n",
    "* **Error handling**: Need to handle failures in individual tasks gracefully.\n",
    "\n",
    "---\n",
    "\n",
    "**Summary:**\n",
    "\n",
    "In LangChain, **parallelization** is about running multiple chains, prompts, or agent actions at the same time instead of one after another. You can achieve it using `parallel_run`, async functions, or Python concurrency tools, which speeds up workflows and improves efficiency.\n",
    "\n",
    "---\n",
    "\n",
    "If you want, I can make a **small diagram showing sequential vs parallel execution in LangChain**—it really makes the concept click. Do you want me to do that?\n"
   ]
  },
  {
   "cell_type": "code",
   "execution_count": 36,
   "metadata": {},
   "outputs": [
    {
     "data": {
      "text/plain": [
       "AIMessage(content='<think>\\nOkay, the user said \"Hello\". I need to respond appropriately. Since this is the first message, I should greet them back and offer assistance. Let me check the guidelines to make sure I\\'m following the right tone. Keep it friendly and open-ended. Maybe ask how I can help them today. That should cover it.\\n</think>\\n\\nHi there! How can I assist you today? 😊', additional_kwargs={}, response_metadata={'token_usage': {'completion_tokens': 83, 'prompt_tokens': 9, 'total_tokens': 92, 'completion_time': 0.165870009, 'prompt_time': 0.000393474, 'queue_time': 0.067229116, 'total_time': 0.166263483}, 'model_name': 'qwen/qwen3-32b', 'system_fingerprint': 'fp_5cf921caa2', 'service_tier': 'on_demand', 'finish_reason': 'stop', 'logprobs': None}, id='run--8985ecb2-f78c-4e85-99d7-9d60d0aebd0f-0', usage_metadata={'input_tokens': 9, 'output_tokens': 83, 'total_tokens': 92})"
      ]
     },
     "execution_count": 36,
     "metadata": {},
     "output_type": "execute_result"
    }
   ],
   "source": [
    "import os \n",
    "from dotenv import load_dotenv\n",
    "load_dotenv()\n",
    "\n",
    "from langchain_groq import ChatGroq\n",
    "\n",
    "os.environ[\"GROQ_API_KEY\"] = os.getenv(\"GROQ_API_KEY\")\n",
    "\n",
    "llm = ChatGroq(model = \"qwen/qwen3-32b\")\n",
    "result = llm.invoke(\"Hello\")\n",
    "result\n"
   ]
  },
  {
   "cell_type": "code",
   "execution_count": 37,
   "metadata": {},
   "outputs": [],
   "source": [
    "from typing_extensions import TypedDict\n",
    "from langgraph.graph import StateGraph , START , END\n",
    "from IPython.display import Image , display\n",
    "\n",
    "# Graph Story\n",
    "\n",
    "class State(TypedDict):\n",
    "    topic:str\n",
    "    character:str\n",
    "    setting:str\n",
    "    premises:str\n",
    "    story_intro:str"
   ]
  },
  {
   "cell_type": "code",
   "execution_count": 38,
   "metadata": {},
   "outputs": [],
   "source": [
    "def generate_character(state:State):\n",
    "    \"\"\"Generate character descriptions\"\"\"\n",
    "    msg = llm.invoke(f\"Create two character names and brief traits for a story about {state['topic']}\")\n",
    "    return {\"character\":msg.content}\n",
    "\n",
    "\n",
    "def generate_setting(state:State):\n",
    "    \"\"\"Generate a story setting\"\"\"\n",
    "    msg = llm.invoke(f\"Describe a vivid setting for a story about {state['topic']}\")\n",
    "    return  {\"setting\":msg.content}\n",
    "\n",
    "\n",
    "def generate_premise(state:State):\n",
    "    \"\"\"Generate a story premises\"\"\"\n",
    "    msg = llm.invoke(f\"Write a one-sentence plot premise for a story about  {state['topic']}\")\n",
    "    return {\"premises\":msg.content}\n",
    "\n",
    "\n",
    "def combine_elements(state:State):\n",
    "    \"\"\"combined characters, setting and premise into intro\"\"\"  \n",
    "    msg = llm.invoke(\n",
    "        f\"write a short story introduction using there elements:\\n\"\n",
    "        f\"Character: {state['setting']}\\n\"\n",
    "        f\"Setting: {state['premises']}\"\n",
    "    )\n",
    "    return {\"story_intro\":msg.content}\n"
   ]
  },
  {
   "cell_type": "code",
   "execution_count": 39,
   "metadata": {},
   "outputs": [
    {
     "data": {
      "text/plain": [
       "<langgraph.graph.state.StateGraph at 0x15a8f8b80>"
      ]
     },
     "execution_count": 39,
     "metadata": {},
     "output_type": "execute_result"
    }
   ],
   "source": [
    "## Build a graph\n",
    "\n",
    "graph = StateGraph(State)\n",
    "graph.add_node(\"character\",generate_character)\n",
    "graph.add_node(\"setting\",generate_setting)\n",
    "graph.add_node(\"premise\",generate_premise)\n",
    "graph.add_node(\"combine\",combine_elements)"
   ]
  },
  {
   "cell_type": "code",
   "execution_count": 40,
   "metadata": {},
   "outputs": [
    {
     "data": {
      "text/plain": [
       "<langgraph.graph.state.StateGraph at 0x15a8f8b80>"
      ]
     },
     "execution_count": 40,
     "metadata": {},
     "output_type": "execute_result"
    }
   ],
   "source": [
    "graph.add_edge(START,\"character\")\n",
    "graph.add_edge(START,\"setting\")\n",
    "graph.add_edge(START,\"premise\")\n",
    "graph.add_edge(\"character\",\"combine\")\n",
    "graph.add_edge(\"setting\",\"combine\")\n",
    "graph.add_edge(\"premise\",\"combine\")\n",
    "graph.add_edge(\"combine\",END)"
   ]
  },
  {
   "cell_type": "code",
   "execution_count": 41,
   "metadata": {},
   "outputs": [
    {
     "data": {
      "image/png": "[encoded data removed]",
      "text/plain": [
       "<IPython.core.display.Image object>"
      ]
     },
     "metadata": {},
     "output_type": "display_data"
    }
   ],
   "source": [
    "# Compile the graph\n",
    "\n",
    "compiled_graph = graph.compile()\n",
    "\n",
    "# Visualis the graph \n",
    "\n",
    "graph_image  = compiled_graph.get_graph().draw_mermaid_png()\n",
    "\n",
    "display(Image(graph_image))"
   ]
  },
  {
   "cell_type": "code",
   "execution_count": 42,
   "metadata": {},
   "outputs": [
    {
     "data": {
      "text/plain": [
       "{'topic': 'World with Crypto',\n",
       " 'character': '<think>\\nOkay, the user wants me to create two character names and brief traits for a story set in a \"World with Crypto.\" Let me start by understanding the setting. A world centered around cryptocurrency—maybe it\\'s a futuristic or alternate reality where crypto is the main form of currency, or perhaps it\\'s a more dystopian or utopian society shaped by blockchain technology.\\n\\nFirst, I need to come up with names that reflect the crypto theme. Maybe something techy or with a modern twist. Let me think... For the first character, maybe a hacker or someone involved in the technical side. A name like \"Zara\" sounds modern and could work. Maybe she\\'s a blockchain developer or something. For traits, maybe she\\'s a prodigy, involved in decentralized networks, and has a rebellious streak against centralized systems.\\n\\nWait, the user mentioned \"brief traits,\" so I need to keep it concise. Let me outline: Name, Role, Key Traits. So Zara could be a Blockchain Architect, with traits like a genius in decentralized systems, maybe an advocate for open-source tech, and someone who\\'s distrustful of traditional finance.\\n\\nFor the second character, maybe someone on the opposite side, like a corporate figure trying to control the crypto world. Or perhaps a trader, someone who uses crypto in a different way. Maybe \"Kael\" as a name. He could be a Crypto Tycoon or something. Traits: a shrewd investor, uses manipulative tactics, maybe sees crypto as a tool for power. Maybe he\\'s involved in creating or controlling crypto empires.\\n\\nWait, but the user might want some depth. Maybe they should have conflicting goals? Like Zara wants to democratize money, while Kael wants to centralize it again under his control. That could create a good story dynamic. Also, considering the crypto world, maybe include elements like NFTs, smart contracts, DeFi, etc. Zara could be into DeFi and open-source projects, while Kael is into centralized exchanges or corporate blockchain solutions.\\n\\nI should also think about unique traits. Maybe Zara has a personal reason to oppose centralized control, like a past where she was affected by financial exclusion. Kael might have a background in traditional finance and wants to bridge or take over the crypto world. Maybe he\\'s charismatic but manipulative.\\n\\nLet me check if the names fit. Zara and Kael. They sound good together. For the traits, maybe mention specific aspects like Zara uses pseudonyms on the blockchain, Kael has a public persona as a philanthropist but is ruthless. Also, maybe Zara is part of a collective, while Kael is a lone wolf or leads a corporation.\\n\\nI need to make sure the traits are brief but give enough for story potential. Avoid clichés but make them relatable. Maybe Zara is idealistic, Kael is pragmatic. Their conflict can drive the story. Alright, let me put it all together concisely.\\n</think>\\n\\n**Character 1: Zara \"The Ghost Miner\" Veyra**  \\n- **Role:** Decentralized blockchain architect and rogue coder.  \\n- **Traits:** A self-taught prodigy who builds anonymous, secure networks to disrupt centralized financial systems. Zara is driven by a distrust of traditional institutions, fueled by her family’s ruin during a crypto crash caused by corporate greed. She operates from the shadows, using pseudonyms and quantum-hacked mining rigs. Charismatic yet reclusive, she’s revered in underground DAOs (Decentralized Autonomous Organizations) but viewed as a terrorist by global banks.  \\n\\n**Character 2: Kael \"The Oracle\" Marris**  \\n- **Role:** Charismatic crypto tycoon and CEO of *NexaChain*, a corporate blockchain empire.  \\n- **Traits:** A former Wall Street algorithm trader, Kael transitioned to crypto after realizing its power to manipulate markets on a global scale. He presents himself as a visionary democratizing finance, but secretly controls \"smart contracts\" that siphon wealth from vulnerable investors. Calculated and socially adept, he hosts luxury crypto-summits to recruit allies while hunting down dissidents like Zara. His obsession with control borders on megalomania—he believes only a \"strong hand\" can stabilize the chaotic crypto world.  \\n\\n**Dynamic:** Their clash embodies the crypto ethos—Zara fights for decentralization and equality, while Kael weaponizes it for power. Their rivalry spirals into a high-stakes game of code, betrayal, and ideological warfare across blockchain networks.',\n",
       " 'setting': '<think>\\nOkay, so I need to describe a vivid setting for a story about a world with crypto. Let\\'s start by brainstorming. First, crypto is all about digital currencies, blockchain, decentralization. Maybe the setting is a futuristic city where cryptocurrency is the main form of money. But how to make it vivid?\\n\\nMaybe the city is called something like \"Bitropolis\" or \"Crypto City.\" It should have neon lights, digital billboards, holograms. The streets could have AR interfaces where people see crypto prices and transactions. Maybe there are ATMs that dispense digital currency instead of cash. \\n\\nWhat about the atmosphere? It\\'s high-tech, fast-paced, maybe a bit chaotic. There\\'s a divide between the wealthy who have lots of crypto and the ones who don\\'t. Maybe some parts of the city are really advanced with flying cars and smart contracts everywhere, while other parts are run-down where people can\\'t keep up with the tech.\\n\\nInstitutions like banks are replaced by decentralized autonomous organizations (DAOs). People interact through blockchain, maybe wearables that show their crypto holdings. There\\'s a black market for crypto too, with hackers and cybercrime. \\n\\nWeather? Maybe the city is in a place with extreme weather, but the crypto economy is so robust it ignores physical conditions. Or maybe the city is a metropolis with a constant hum of technology, drones delivering things, NFT galleries, crypto art.\\n\\nCharacters might include a hacker, a DAO leader, someone from the underbelly trying to survive. Maybe there\\'s a central conflict like a major hack, a new cryptocurrency that could disrupt the market, or a struggle for power between different blockchain factions.\\n\\nNeed to make it vivid with sensory details: the glow of screens, sounds of digital transactions, smells of coffee in a café where people trade NFTs, the feel of a cold metal coin vs digital wallets. Maybe a central square with a giant blockchain display showing all transactions in real-time.\\n\\nAlso consider the time period. Is it near future or far future? Maybe near future so it\\'s relatable. The setting should reflect the themes of decentralization, trust in technology, anonymity vs transparency. Maybe some people distrust the system and use old fiat currency in hidden places.\\n\\nPotential for a dystopian twist where the crypto system is too perfect and controls people\\'s lives, or utopian where it\\'s solved world poverty. Maybe a mix. Also, how do governments play into this? Are they obsolete or have they adapted?\\n\\nNeed to tie all these elements into a cohesive setting. Maybe start with the cityscape, then the technology, then the society and conflicts. Use vivid imagery to paint the picture. Make sure to highlight the crypto elements in a way that\\'s integral to the environment, not just tacked on.\\n</think>\\n\\n**Title: Neon Nexus: A World Forged in Code**\\n\\n**Setting: The Metropolis of Crypto Haven**  \\n\\nIn the year 2047, **Crypto Haven** rises from the ashes of a climate-ravaged world, a dazzling, vertical city where blockchain is the lifeblood of existence. Skyscrapers, their facades shimmering with dynamic LED displays, pulse with real-time crypto prices and NFT art installations. The air hums with the whisper of 5G networks and the drone of delivery bots, each transaction governed by **smart contracts** etched into the city’s very DNA.  \\n\\n**The Streets:**  \\nBeneath a canopy of holographic billboards projecting crypto tutorials and yield farming ads, the streets are a labyrinth of augmented reality (AR) interfaces. Pedestrians, their eyes glowing faintly from retinal implants, navigate via AR overlays that display wallet balances and decentralized app (dApp) menus. **Crypto kiosks**—glowing like futuristic ATMs—dot the sidewalks, allowing users to convert energy credits or labor hours into tokens. The scent of synthetic coffee from a corner café mingles with the metallic tang of ionized air, as baristas trade NFTs of rare art to pay for their shifts.  \\n\\n**The Economy:**  \\nHere, **fiat is obsolete**. Every interaction is a transaction: ride-share hovercars deduct fees in Ethereum, while public parks charge microtransactions in Solana for tree shade. The city’s heartbeat is the **DAO Tower**, a spiraling hub where citizens vote on policies via blockchain, their influence weighted by token holdings. Yet, shadows lurk in the underbelly—**The Dark Bazaar**, a black-market crypto den where hackers trade stolen private keys and privacy is a currency more valuable than Bitcoin.  \\n\\n**The Divide:**  \\nCrypto Haven is a city of contrasts. The **Upper Chains**, a glittering district of flying cars and AI-driven luxury, thrives for the ultra-wealthy who mined early and never looked back. Below, in the **Fork District**, the disenfranchised scavenge for internet access, their rusted hoverboards rigged to mine cryptocurrency through motion. A digital red line separates the two worlds, enforced by autonomous security drones programmed to shut down any unauthorized data leaks.  \\n\\n**The Culture:**  \\nArtists project **generative art** onto building walls, their creations funded by patrons via crypto tips. Music festivals feature AI DJs that remix tracks based on crowd sentiment analyzed through social media. Yet, whispers of rebellion stir. A grassroots movement, **The Analog Resistance**, hides cash in hollowed-out books and barter goods in alleyway markets, rejecting the algorithmic gaze of the blockchain.  \\n\\n**The Conflict:**  \\nAt the city’s core looms the **Quantum Exchange**, a monolithic server farm cooling in the depths of the ocean, housing the **Global Ledger**—the irrefutable, unalterable record of all human transactions. When a mysterious quantum hack threatens to destabilize the ledger, the city teeters on the edge of chaos. A young, anonymous hacker known only as **Cipher** must navigate this neon-lit world of betrayals and alliances, where trust is a deprecated protocol and every shadow hides a private key to the future.  \\n\\n**Sensory Details:**  \\n- **Sight:** Glowing QR codes dance on pedestrians’ foreheads, their biometrics linked to wallets.  \\n- **Sound:** The constant *ping* of transactions, the *whir* of drones, and the distant hum of data centers.  \\n- **Smell:** Ozone from overworked servers, the sweetness of 3D-printed pastries, and the acrid smoke of burnt-out circuitry in the slums.  \\n- **Touch:** The cold bite of a metal street sign vs. the warmth of a hand-shake—now rare, now sacred.  \\n\\nIn Crypto Haven, the future is written in code, and every line of it is a bet on humanity’s next move.',\n",
       " 'premises': '<think>\\nOkay, the user wants a one-sentence plot premise for a story about a world with crypto. Let me start by thinking about the key elements. Cryptocurrency is decentralized, so maybe a society that relies heavily on it. What would be a conflict? Maybe a crisis like a crash or a hack. Or perhaps a regulatory issue. Maybe there\\'s a character who has to navigate this crisis. Let me consider the stakes. High stakes make for good stories. Maybe the collapse of the crypto economy threatens society. A protagonist could be someone trying to fix it or exploit it. Maybe a former developer who created a major crypto system and now has to fix it. Add some urgency. Also, themes like trust, decentralization vs. control. Maybe a government trying to impose control versus the decentralized nature of crypto. Or a hacker causing chaos. Let me try combining these ideas. How about a world where crypto is the main currency, and a hack or a crash leads to chaos, and the protagonist must solve it? Maybe add a twist, like a hidden vulnerability they have to address. Let me try to form a sentence. \\n\\n\"In a world where cryptocurrency is the sole foundation of society, a brilliant but disillusioned developer must confront the catastrophic collapse of the global crypto system, uncovering a hidden vulnerability that threatens to expose the fragility of their decentralized utopia. Wait, but the user wants one sentence. Let me make sure it\\'s concise. Maybe include elements of both the collapse and the protagonist\\'s motivation. Perhaps include a race against time. Maybe a government trying to take control. Or a group trying to save the system. Let me try again: \\n\\n\"In a future where global economies rely entirely on cryptocurrency, a rogue hacker\\'s attack triggers a chain reaction threatening to collapse the digital financial world, forcing a former crypto-tycoon to team up with a idealistic programmer to prevent economic chaos and expose a government conspiracy to control the decentralized system. Hmm, that\\'s a bit long. Let me shorten. Maybe remove the conspiracy part. Or keep it. Maybe include the clash between decentralization and control. \\n\\nFinal version: Maybe something like \"In a world where cryptocurrency has replaced all traditional currency, a former developer of the global crypto network must race against time to prevent a catastrophic collapse caused by a mysterious hack, uncovering a dark conspiracy that challenges the very foundation of their decentralized society.\" That\\'s one sentence. It includes the crypto world, a crisis, a protagonist with expertise, a race against time, a hack, and a deeper conspiracy. I think that works. Let me check if it\\'s a single sentence. Yes, it\\'s one sentence. It sets up conflict, stakes, and some thematic elements.\\n</think>\\n\\n\"In a world where cryptocurrency has replaced all traditional currency, a disgraced developer must unravel a catastrophic global hack that threatens to collapse the digital economy, exposing a hidden cabal\\'s plot to centralize power in a society built on decentralization.\"',\n",
       " 'story_intro': '<think>\\nOkay, let\\'s see. The user wants a short story introduction using the provided elements. They already have a detailed setting for a crypto-based world called Crypto Haven. The next step is to create a compelling opening that hooks the reader. The story should introduce the setting and the conflict. The user mentioned elements like the Quantum Exchange, the Global Ledger, and the protagonist Cipher. I need to weave these into the intro. Start with a vivid image of the city to set the scene. Maybe use the contrast between the Upper Chains and the Fork District to show the divide. Introduce Cipher as a mysterious figure. Highlight the urgency of the Quantum Exchange hack. Make sure to include sensory details from the setting description. Keep it tight, maybe a paragraph or two. Check if all key elements are there: the setting, the conflict, the protagonist, and the stakes. Avoid info-dumping but hint at deeper layers.\\n</think>\\n\\n**Introduction: The Fracture**  \\n\\nThe neon veins of Crypto Haven pulsed in rhythmic chaos—a symphony of blockchain and betrayal. Cipher moved through the Fork District’s labyrinthine alleys, their trench coat flickering with stolen AR ads as the city above traded billions in Ethereum while the streets below starved. The Quantum Exchange’s alarm had already echoed through the Grid: *The Global Ledger is bleeding.*  \\n\\nAbove, in the Upper Chains, the DAO Tower’s glass spires glowed like a god’s grin, oblivious to the tremors of the hack unraveling their perfect algorithm. Cipher’s pulse matched the erratic flicker of their retinal display, the hack’s code a jagged puzzle only they could decipher. They’d built the Quantum Exchange once—before the Analog Resistance’s whispers of \"fragility\" took root. Now, as the first cracks spread across the city’s digital skeleton, Cipher knew the choice wasn’t just about saving Crypto Haven. It was about deciding whether to mend a system that had devoured the world… or let it burn.  \\n\\nThe rain began, washing holograms into static, as Cipher’s boot hit a loose data cable. Somewhere in the noise, the past hissed: *Trust no protocol.*'}"
      ]
     },
     "execution_count": 42,
     "metadata": {},
     "output_type": "execute_result"
    }
   ],
   "source": [
    "## Run the Graph\n",
    "\n",
    "state = {\"topic\":\"World with Crypto\"}\n",
    "result = compiled_graph.invoke(state)\n",
    "result"
   ]
  },
  {
   "cell_type": "code",
   "execution_count": 43,
   "metadata": {},
   "outputs": [
    {
     "name": "stdout",
     "output_type": "stream",
     "text": [
      "<think>\n",
      "Okay, let's see. The user wants a short story introduction using the provided elements. They already have a detailed setting for a crypto-based world called Crypto Haven. The next step is to create a compelling opening that hooks the reader. The story should introduce the setting and the conflict. The user mentioned elements like the Quantum Exchange, the Global Ledger, and the protagonist Cipher. I need to weave these into the intro. Start with a vivid image of the city to set the scene. Maybe use the contrast between the Upper Chains and the Fork District to show the divide. Introduce Cipher as a mysterious figure. Highlight the urgency of the Quantum Exchange hack. Make sure to include sensory details from the setting description. Keep it tight, maybe a paragraph or two. Check if all key elements are there: the setting, the conflict, the protagonist, and the stakes. Avoid info-dumping but hint at deeper layers.\n",
      "</think>\n",
      "\n",
      "**Introduction: The Fracture**  \n",
      "\n",
      "The neon veins of Crypto Haven pulsed in rhythmic chaos—a symphony of blockchain and betrayal. Cipher moved through the Fork District’s labyrinthine alleys, their trench coat flickering with stolen AR ads as the city above traded billions in Ethereum while the streets below starved. The Quantum Exchange’s alarm had already echoed through the Grid: *The Global Ledger is bleeding.*  \n",
      "\n",
      "Above, in the Upper Chains, the DAO Tower’s glass spires glowed like a god’s grin, oblivious to the tremors of the hack unraveling their perfect algorithm. Cipher’s pulse matched the erratic flicker of their retinal display, the hack’s code a jagged puzzle only they could decipher. They’d built the Quantum Exchange once—before the Analog Resistance’s whispers of \"fragility\" took root. Now, as the first cracks spread across the city’s digital skeleton, Cipher knew the choice wasn’t just about saving Crypto Haven. It was about deciding whether to mend a system that had devoured the world… or let it burn.  \n",
      "\n",
      "The rain began, washing holograms into static, as Cipher’s boot hit a loose data cable. Somewhere in the noise, the past hissed: *Trust no protocol.*\n"
     ]
    }
   ],
   "source": [
    "print(result[\"story_intro\"])"
   ]
  },
  {
   "cell_type": "code",
   "execution_count": null,
   "metadata": {},
   "outputs": [],
   "source": []
  }
 ],
 "metadata": {
  "kernelspec": {
   "display_name": "Python 3",
   "language": "python",
   "name": "python3"
  },
  "language_info": {
   "codemirror_mode": {
    "name": "ipython",
    "version": 3
   },
   "file_extension": ".py",
   "mimetype": "text/x-python",
   "name": "python",
   "nbconvert_exporter": "python",
   "pygments_lexer": "ipython3",
   "version": "3.9.6"
  },
  "orig_nbformat": 4,
  "vscode": {
   "interpreter": {
    "hash": "31f2aee4e71d21fbe5cf8b01ff0e069b9275f58929596ceb00d14d90e3e16cd6"
   }
  }
 },
 "nbformat": 4,
 "nbformat_minor": 2
}
