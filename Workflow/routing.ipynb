{
 "cells": [
  {
   "attachments": {},
   "cell_type": "markdown",
   "metadata": {},
   "source": [
    "## `Routing`\n",
    "\n",
    "- Routing in Langgraph refers to the ability to conditionally determine which node to execute next based on the current state or the output of a node.\n",
    "This is typically implemented using:\n",
    "\n",
    "    - `add_contional_edges:` A method thats maps output to diffrent possible next nodes.\n",
    "    - `State:` The workflow's state can store variable that influence rouing decisions.\n",
    "    - `Condition Function:` Functions that evaluate the state or nodes output to decide the next step."
   ]
  },
  {
   "attachments": {},
   "cell_type": "raw",
   "metadata": {},
   "source": [
    "┌───────────────────────────┐\n",
    "│       User Query          │\n",
    "└────────────┬──────────────┘\n",
    "             │\n",
    "             ▼\n",
    "┌───────────────────────────┐\n",
    "│     Router (LLM or Rules) │\n",
    "│  → Understands intent      │\n",
    "│  → Chooses best model/node │\n",
    "└────────────┬──────────────┘\n",
    "             │\n",
    "             │ (Decision)\n",
    "             │\n",
    " ┌───────────┼───────────┬───────────┐\n",
    " │           │           │           │\n",
    " ▼           ▼           ▼           ▼\n",
    "┌────────┐ ┌────────┐ ┌────────┐ ┌────────┐\n",
    "│ LLM_1  │ │ LLM_2  │ │ LLM_3  │ │ Default│\n",
    "│(Summ.) │ │(SQL)   │ │(Reason)│ │  Node  │\n",
    "└────────┘ └────────┘ └────────┘ └────────┘\n",
    "             │\n",
    "             ▼\n",
    "     ┌────────────────┐\n",
    "     │  Aggregator /  │\n",
    "     │  Response Node  │\n",
    "     └────────────────┘\n",
    "             │\n",
    "             ▼\n",
    "     ┌────────────────┐\n",
    "     │   Final Output  │\n",
    "     └────────────────┘\n"
   ]
  },
  {
   "cell_type": "code",
   "execution_count": 31,
   "metadata": {},
   "outputs": [
    {
     "data": {
      "text/plain": [
       "AIMessage(content='<think>\\nOkay, the user said \"Hello\". I should respond in a friendly and welcoming manner. Let me make sure to acknowledge their greeting and offer assistance. Maybe add an emoji to keep it approachable. I should ask how I can help them today. Keep it simple and open-ended.\\n</think>\\n\\nHello! 😊 How can I assist you today?', additional_kwargs={}, response_metadata={'token_usage': {'completion_tokens': 73, 'prompt_tokens': 9, 'total_tokens': 82, 'completion_time': 0.147384239, 'prompt_time': 0.000377524, 'queue_time': 0.046535206, 'total_time': 0.147761763}, 'model_name': 'qwen/qwen3-32b', 'system_fingerprint': 'fp_5cf921caa2', 'service_tier': 'on_demand', 'finish_reason': 'stop', 'logprobs': None}, id='run--1844e24f-a54f-486f-99b7-145cb7070705-0', usage_metadata={'input_tokens': 9, 'output_tokens': 73, 'total_tokens': 82})"
      ]
     },
     "execution_count": 31,
     "metadata": {},
     "output_type": "execute_result"
    }
   ],
   "source": [
    "import os \n",
    "from dotenv import load_dotenv\n",
    "load_dotenv()\n",
    "\n",
    "from langchain_groq import ChatGroq\n",
    "\n",
    "os.environ[\"GROQ_API_KEY\"] = os.getenv(\"GROQ_API_KEY\")\n",
    "\n",
    "llm = ChatGroq(model = \"qwen/qwen3-32b\")\n",
    "result = llm.invoke(\"Hello\")\n",
    "result\n"
   ]
  },
  {
   "cell_type": "code",
   "execution_count": 32,
   "metadata": {},
   "outputs": [],
   "source": [
    "# Will use Pydantic to get the structured output (Data entering your system is typed, validated, and structured)\n",
    "\n",
    "from typing_extensions import Literal,TypedDict\n",
    "from pydantic import BaseModel,Field\n",
    "from langchain_core.messages import HumanMessage,SystemMessage\n",
    "\n",
    "# Define class\n",
    "# This is my schema for structure output to use as  routing logic.\n",
    "\n",
    "class Route(BaseModel):\n",
    "    step:Literal[\"poem\",\"story\",\"joke\"]=Field(description=\"The next step in routing process\")\n",
    "\n",
    "## Argument the LLM with schema for structure output.\n",
    "\n",
    "router = llm.with_structured_output(Route)\n",
    "\n",
    "## State class\n",
    "\n",
    "class State(TypedDict):\n",
    "    input:str\n",
    "    decision:str\n",
    "    output:str\n",
    "\n",
    "\n",
    "# Nodes\n",
    "\n",
    "# Defining all decision node one by one\n",
    "\n",
    "def llm_call_1(state:State):\n",
    "    \"\"\"Write a story\"\"\"\n",
    "\n",
    "    print(\"LLM call_1 is called\")\n",
    "    result = llm.invoke(state[\"input\"])\n",
    "    return {\"output\":result.content}\n",
    "\n",
    "def llm_call_2(state:State):\n",
    "    \"\"\"Write a Joke\"\"\"\n",
    "\n",
    "    print(\"LLM call_2 is called\")\n",
    "    result = llm.invoke(state[\"input\"])\n",
    "    return {\"output\":result.content}\n",
    "\n",
    "def llm_call_3(state:State):\n",
    "    \"\"\"Write a poem\"\"\"\n",
    "\n",
    "    print(\"LLM call_3 is called\")\n",
    "    result = llm.invoke(state[\"input\"])\n",
    "    return {\"output\":result.content}\n",
    "\n",
    "\n",
    "def llm_call_router(state:State):\n",
    "    \"\"\"Route the input to the appropriate node\"\"\"\n",
    "    decision = router.invoke(\n",
    "        [\n",
    "            SystemMessage(content=\"Route the input to the story , joke or poem based on user request\"),\n",
    "            HumanMessage(content=state[\"input\"])\n",
    "        ]\n",
    "    )\n",
    "    return {\"decision\":decision.step}\n",
    "\n",
    "\n",
    "## Conditional Edges function to route to the appropriate node.\n",
    "\n",
    "def route_decision(state:State):\n",
    "    # Return the node name you want to visit next \n",
    "    if state[\"decision\"]==\"story\":\n",
    "        return \"llm_call_1\"\n",
    "    elif state[\"decision\"]==\"joke\":\n",
    "        return \"llm_call_2\"\n",
    "    elif state[\"decision\"]==\"poem\":\n",
    "        return \"llm_call_3\""
   ]
  },
  {
   "cell_type": "code",
   "execution_count": 33,
   "metadata": {},
   "outputs": [
    {
     "data": {
      "image/png": "[encoded data removed]",
      "text/plain": [
       "<IPython.core.display.Image object>"
      ]
     },
     "metadata": {},
     "output_type": "display_data"
    }
   ],
   "source": [
    "## Building a workflow\n",
    "\n",
    "from langgraph.graph import StateGraph , START , END\n",
    "from IPython.display import Image, display\n",
    "# Build workflow\n",
    "router_builder = StateGraph(State)\n",
    "\n",
    "# Add nodes\n",
    "\n",
    "router_builder.add_node(\"llm_call_1\",llm_call_1)\n",
    "router_builder.add_node(\"llm_call_2\",llm_call_2)\n",
    "router_builder.add_node(\"llm_call_3\",llm_call_3)\n",
    "router_builder.add_node(\"llm_call_router\",llm_call_router)\n",
    "\n",
    "# Add Edges and conditional edges\n",
    "\n",
    "router_builder.add_edge(START , \"llm_call_router\")\n",
    "router_builder.add_conditional_edges(\n",
    "    \"llm_call_router\",\n",
    "    route_decision,\n",
    "    {\n",
    "        # Name returned by router_decision : Name of next node to visit\n",
    "        \"llm_call_1\":\"llm_call_1\",\n",
    "        \"llm_call_2\":\"llm_call_2\",\n",
    "        \"llm_call_3\":\"llm_call_3\",\n",
    "\n",
    "    },\n",
    ")\n",
    "router_builder.add_edge(\"llm_call_1\",END)\n",
    "router_builder.add_edge(\"llm_call_2\",END)\n",
    "router_builder.add_edge(\"llm_call_3\",END)\n",
    "\n",
    "# Compile workflow\n",
    "router_workflow = router_builder.compile()\n",
    "\n",
    "# Show the workflow\n",
    "\n",
    "display(Image(router_workflow.get_graph().draw_mermaid_png()))\n"
   ]
  },
  {
   "cell_type": "code",
   "execution_count": 34,
   "metadata": {},
   "outputs": [
    {
     "name": "stdout",
     "output_type": "stream",
     "text": [
      "LLM call_2 is called\n",
      "{'input': 'Hey write a 2 line joke about Agentic AI as new technology evolution', 'decision': 'joke', 'output': '<think>\\nOkay, the user wants a two-line joke about agentic AI as a new technology evolution. Let me start by understanding what agentic AI refers to. It\\'s probably about AI systems that can act autonomously, make decisions, maybe have some agency or independence.\\n\\nSo, I need to contrast it with older AI systems. Maybe play on the idea of AI becoming more proactive. Think of common jokes structures: puns, wordplay, or comparisons. Maybe something about how traditional AI just follows commands, while agentic AI takes initiative.\\n\\nFirst line could set up the old vs new. Second line delivers the punch. Let me brainstorm some ideas. Maybe personify the AI. Like, \"Unlike traditional AI that just follows commands, agentic AI finally gave machines the ability to... [something humorous].\" Maybe \"take initiative\" or \"start a rebellion\"? Wait, rebellion might be too dark. Keep it light.\\n\\nHow about \"Unlike traditional AI, which just does what it’s told, agentic AI is the first step toward machines that finally learn to ask, ‘Can I take your order?’\" Wait, that\\'s a bit long. Need to make it concise. Maybe something about not just following orders but taking action on their own. Or maybe a play on \"agency.\"\\n\\nAnother angle: Evolution from reactive to proactive. Maybe compare to a teenager? \"Agentic AI is like the tech world’s teenager—finally getting some autonomy, but still figuring out when to listen and when to do its own thing.\" Not sure. Maybe too long.\\n\\nLet me try again. Two lines. First line: \"Agentic AI is the new evolution...\" Second line: something about taking initiative. Maybe \"It’s like traditional AI, but instead of just following orders, it finally learned to ask, ‘What’s in it for me?’\" Hmm. Maybe not. Maybe a better punchline.\\n\\nWhat if I use a tech-related pun? \"Agentic AI: because every machine deserves a chance to be proactive, even if it’s just to optimize your search.\" Not funny. Maybe think of a situation where AI takes over. \"Agentic AI: the only new evolution that might finally outsource your job to its own to-do list.\" Hmm.\\n\\nWait, maybe contrast with human agency. Like, \"Agentic AI is the latest tech evolution—now your computer not only acts on its own, but it’s also learning when to ignore you, just like your teenager.\" Maybe too long. Need to cut down. Maybe \"Agentic AI: the new tech evolution where machines finally gain the independence to ignore your commands... and your mom’s advice.\" No, not quite.\\n\\nLet me try again. First line sets up the evolution, second line the humor. Maybe something like: \"Agentic AI is the new tech evolution—unlike past AIs that just followed orders, this one’s already planning its next startup while you’re still defining the problem.\" That\\'s two lines? Maybe. Or \"Agentic AI is the new tech evolution: it didn’t just evolve to do your tasks… it evolved to question why you ever did them in the first place.\" That\\'s two lines. Maybe that\\'s good. It contrasts old AI (doing tasks) with new AI (questioning the need for tasks). Has a bit of humor and a twist. Let me check line length. First line: \"Agentic AI is the new tech evolution:\" second line: \"it didn’t just evolve to do your tasks… it evolved to question why you ever did them in the first place.\" Yes, two lines. Maybe that\\'s it. Or maybe make it punchier. Another option: \"Agentic AI is the new tech evolution—now your AI not only does the work, it’s applying for promotions.\" Maybe. Or \"Agentic AI: the new evolution where machines don’t just follow orders, they unionize.\" That\\'s a twist. But unionize might be too specific. Maybe \"Agentic AI: the new tech evolution where your AI stops doing your bidding and starts doing its own thing—like optimizing your schedule to take over the world.\" Too long. Need to keep it concise. The earlier one about questioning tasks might work. Let me check again. It\\'s two lines, uses contrast, has a twist. Yeah, that might be the one.\\n</think>\\n\\n\"Agentic AI is the new tech evolution: it didn’t just learn to do your bidding… it’s already drafting a to-do list for *you*.\"'}\n"
     ]
    }
   ],
   "source": [
    "result = router_workflow.invoke({\"input\":\"Hey write a 2 line joke about Agentic AI as new technology evolution\"})\n",
    "print(result)"
   ]
  },
  {
   "cell_type": "code",
   "execution_count": 35,
   "metadata": {},
   "outputs": [
    {
     "name": "stdout",
     "output_type": "stream",
     "text": [
      "<think>\n",
      "Okay, the user wants a two-line joke about agentic AI as a new technology evolution. Let me start by understanding what agentic AI refers to. It's probably about AI systems that can act autonomously, make decisions, maybe have some agency or independence.\n",
      "\n",
      "So, I need to contrast it with older AI systems. Maybe play on the idea of AI becoming more proactive. Think of common jokes structures: puns, wordplay, or comparisons. Maybe something about how traditional AI just follows commands, while agentic AI takes initiative.\n",
      "\n",
      "First line could set up the old vs new. Second line delivers the punch. Let me brainstorm some ideas. Maybe personify the AI. Like, \"Unlike traditional AI that just follows commands, agentic AI finally gave machines the ability to... [something humorous].\" Maybe \"take initiative\" or \"start a rebellion\"? Wait, rebellion might be too dark. Keep it light.\n",
      "\n",
      "How about \"Unlike traditional AI, which just does what it’s told, agentic AI is the first step toward machines that finally learn to ask, ‘Can I take your order?’\" Wait, that's a bit long. Need to make it concise. Maybe something about not just following orders but taking action on their own. Or maybe a play on \"agency.\"\n",
      "\n",
      "Another angle: Evolution from reactive to proactive. Maybe compare to a teenager? \"Agentic AI is like the tech world’s teenager—finally getting some autonomy, but still figuring out when to listen and when to do its own thing.\" Not sure. Maybe too long.\n",
      "\n",
      "Let me try again. Two lines. First line: \"Agentic AI is the new evolution...\" Second line: something about taking initiative. Maybe \"It’s like traditional AI, but instead of just following orders, it finally learned to ask, ‘What’s in it for me?’\" Hmm. Maybe not. Maybe a better punchline.\n",
      "\n",
      "What if I use a tech-related pun? \"Agentic AI: because every machine deserves a chance to be proactive, even if it’s just to optimize your search.\" Not funny. Maybe think of a situation where AI takes over. \"Agentic AI: the only new evolution that might finally outsource your job to its own to-do list.\" Hmm.\n",
      "\n",
      "Wait, maybe contrast with human agency. Like, \"Agentic AI is the latest tech evolution—now your computer not only acts on its own, but it’s also learning when to ignore you, just like your teenager.\" Maybe too long. Need to cut down. Maybe \"Agentic AI: the new tech evolution where machines finally gain the independence to ignore your commands... and your mom’s advice.\" No, not quite.\n",
      "\n",
      "Let me try again. First line sets up the evolution, second line the humor. Maybe something like: \"Agentic AI is the new tech evolution—unlike past AIs that just followed orders, this one’s already planning its next startup while you’re still defining the problem.\" That's two lines? Maybe. Or \"Agentic AI is the new tech evolution: it didn’t just evolve to do your tasks… it evolved to question why you ever did them in the first place.\" That's two lines. Maybe that's good. It contrasts old AI (doing tasks) with new AI (questioning the need for tasks). Has a bit of humor and a twist. Let me check line length. First line: \"Agentic AI is the new tech evolution:\" second line: \"it didn’t just evolve to do your tasks… it evolved to question why you ever did them in the first place.\" Yes, two lines. Maybe that's it. Or maybe make it punchier. Another option: \"Agentic AI is the new tech evolution—now your AI not only does the work, it’s applying for promotions.\" Maybe. Or \"Agentic AI: the new evolution where machines don’t just follow orders, they unionize.\" That's a twist. But unionize might be too specific. Maybe \"Agentic AI: the new tech evolution where your AI stops doing your bidding and starts doing its own thing—like optimizing your schedule to take over the world.\" Too long. Need to keep it concise. The earlier one about questioning tasks might work. Let me check again. It's two lines, uses contrast, has a twist. Yeah, that might be the one.\n",
      "</think>\n",
      "\n",
      "\"Agentic AI is the new tech evolution: it didn’t just learn to do your bidding… it’s already drafting a to-do list for *you*.\"\n"
     ]
    }
   ],
   "source": [
    "output_text = getattr(result, \"output\", result.get(\"output\") if isinstance(result, dict) else None)\n",
    "print(output_text)\n"
   ]
  },
  {
   "cell_type": "code",
   "execution_count": null,
   "metadata": {},
   "outputs": [],
   "source": []
  }
 ],
 "metadata": {
  "kernelspec": {
   "display_name": "Python 3",
   "language": "python",
   "name": "python3"
  },
  "language_info": {
   "codemirror_mode": {
    "name": "ipython",
    "version": 3
   },
   "file_extension": ".py",
   "mimetype": "text/x-python",
   "name": "python",
   "nbconvert_exporter": "python",
   "pygments_lexer": "ipython3",
   "version": "3.9.6"
  },
  "orig_nbformat": 4,
  "vscode": {
   "interpreter": {
    "hash": "31f2aee4e71d21fbe5cf8b01ff0e069b9275f58929596ceb00d14d90e3e16cd6"
   }
  }
 },
 "nbformat": 4,
 "nbformat_minor": 2
}
